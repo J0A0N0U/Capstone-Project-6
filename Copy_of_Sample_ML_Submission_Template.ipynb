{
  "nbformat": 4,
  "nbformat_minor": 0,
  "metadata": {
    "colab": {
      "private_outputs": true,
      "provenance": [],
      "collapsed_sections": [
        "vncDsAP0Gaoa",
        "FJNUwmbgGyua",
        "JMzcOPDDphqR",
        "X_VqEhTip1ck",
        "8zGJKyg5p1ck",
        "PVzmfK_Ep1ck",
        "n3dbpmDWp1ck",
        "ylSl6qgtp1ck",
        "ZWILFDl5p1ck",
        "M7G43BXep1ck",
        "Ag9LCva-p1cl",
        "E6MkPsBcp1cl",
        "2cELzS2fp1cl",
        "3MPXvC8up1cl",
        "NC_X3p0fY2L0",
        "UV0SzAkaZNRQ",
        "YPEH6qLeZNRQ",
        "q29F0dvdveiT",
        "EXh0U9oCveiU",
        "22aHeOlLveiV",
        "Yfr_Vlr8HBkt",
        "8yEUt7NnHlrM",
        "tEA2Xm5dHt1r",
        "I79__PHVH19G",
        "Ou-I18pAyIpj",
        "fF3858GYyt-u",
        "4_0_7-oCpUZd",
        "hwyV_J3ipUZe",
        "3yB-zSqbpUZe",
        "dEUvejAfpUZe",
        "Fd15vwWVpUZf",
        "bn_IUdTipZyH",
        "49K5P_iCpZyH",
        "Nff-vKELpZyI",
        "kLW572S8pZyI",
        "dWbDXHzopZyI",
        "yLjJCtPM0KBk",
        "xiyOF9F70UgQ",
        "7wuGOrhz0itI",
        "id1riN9m0vUs",
        "578E2V7j08f6",
        "89xtkJwZ18nB",
        "67NQN5KX2AMe",
        "Iwf50b-R2tYG",
        "GMQiZwjn3iu7",
        "WVIkgGqN3qsr",
        "XkPnILGE3zoT",
        "Hlsf0x5436Go",
        "mT9DMSJo4nBL",
        "c49ITxTc407N",
        "OeJFEK0N496M",
        "9ExmJH0g5HBk",
        "cJNqERVU536h",
        "k5UmGsbsOxih",
        "T0VqWOYE6DLQ",
        "qBMux9mC6MCf",
        "-oLEiFgy-5Pf",
        "C74aWNz2AliB",
        "2DejudWSA-a0",
        "pEMng2IbBLp7",
        "rAdphbQ9Bhjc",
        "TNVZ9zx19K6k",
        "nqoHp30x9hH9",
        "rMDnDkt2B6du",
        "yiiVWRdJDDil",
        "1UUpS68QDMuG",
        "kexQrXU-DjzY",
        "T5CmagL3EC8N",
        "BhH2vgX9EjGr",
        "qjKvONjwE8ra",
        "P1XJ9OREExlT",
        "VFOzZv6IFROw",
        "TIqpNgepFxVj",
        "OB4l2ZhMeS1U",
        "ArJBuiUVfxKd",
        "4qY1EAkEfxKe",
        "PiV4Ypx8fxKe",
        "TfvqoZmBfxKf",
        "dJ2tPlVmpsJ0",
        "JWYfwnehpsJ1",
        "-jK_YjpMpsJ2",
        "HAih1iBOpsJ2",
        "zVGeBEFhpsJ2",
        "bmKjuQ-FpsJ3",
        "Fze-IPXLpx6K",
        "7AN1z2sKpx6M",
        "9PIHJqyupx6M",
        "_-qAgymDpx6N",
        "Z-hykwinpx6N",
        "h_CCil-SKHpo",
        "cBFFvTBNJzUa",
        "HvGl1hHyA_VK",
        "KH5McJBi2d8v",
        "iW_Lq9qf2h6X",
        "-Kee-DAl2viO",
        "gCX9965dhzqZ",
        "gIfDvo9L0UH2"
      ],
      "include_colab_link": true
    },
    "kernelspec": {
      "name": "python3",
      "display_name": "Python 3"
    },
    "language_info": {
      "name": "python"
    }
  },
  "cells": [
    {
      "cell_type": "markdown",
      "metadata": {
        "id": "view-in-github",
        "colab_type": "text"
      },
      "source": [
        "<a href=\"https://colab.research.google.com/github/J0A0N0U/Capstone-Project-6/blob/main/Copy_of_Sample_ML_Submission_Template.ipynb\" target=\"_parent\"><img src=\"https://colab.research.google.com/assets/colab-badge.svg\" alt=\"Open In Colab\"/></a>"
      ]
    },
    {
      "cell_type": "markdown",
      "source": [
        "# **Project Name**- Netflix Movies and TV Shows Clustering  \n",
        "\n"
      ],
      "metadata": {
        "id": "vncDsAP0Gaoa"
      }
    },
    {
      "cell_type": "markdown",
      "source": [
        "##### **Project Type**    - Unsupervised\n",
        "##### **Contribution**    - Team\n",
        "##### Team Member 1 -Anjali Pravin Desale\n",
        "##### Team Member 2 -Mansi Pravin Patil\n",
        "##### Team Member 3 -Janhavi Pramod Jadhav\n"
      ],
      "metadata": {
        "id": "beRrZCGUAJYm"
      }
    },
    {
      "cell_type": "markdown",
      "source": [
        "# Project Summary -\n",
        "The aim of this project is to enhance content discovery on Netflix by developing a clustering model that groups movies and TV shows based on various attributes. By doing so, we intend to improve the user experience, making it easier for viewers to find content that aligns with their preferences.\n",
        "\n",
        "To start, data will be collected from publicly available sources, specifically focusing on Netflix’s extensive library of movies and TV shows. This includes metadata such as titles, genres, cast members, directors, release years, runtimes, ratings, and user reviews. The primary dataset for this project is the Netflix Movies and TV Shows dataset from Kaggle, which consists of 7,787 rows and 12 columns, providing a comprehensive overview of Netflix's content.\n",
        "\n",
        "The initial phase involves thorough data preprocessing to clean and standardize the data, addressing missing values and inconsistencies, and removing any irrelevant information. This step is crucial to prepare the data for effective clustering. Feature engineering is then undertaken to extract relevant features that capture the essence of each movie or TV show. Techniques such as natural language processing (NLP) will be employed to analyze textual data, including descriptions and reviews, thereby providing deeper insights into the content.\n",
        "\n",
        "With the preprocessed data and engineered features, various clustering algorithms will be applied to group the movies and TV shows. Algorithms such as K-means, hierarchical clustering, and DBSCAN will be evaluated and compared using metrics like the silhouette score and Davies-Bouldin index. These metrics help determine the most effective clustering approach. Both quantitative and qualitative validation will ensure that the clusters are not only mathematically sound but also meaningful and useful to users."
      ],
      "metadata": {
        "id": "FJNUwmbgGyua"
      }
    },
    {
      "cell_type": "markdown",
      "source": [
        "Write the summary here within 500-600 words."
      ],
      "metadata": {
        "id": "F6v_1wHtG2nS"
      }
    },
    {
      "cell_type": "markdown",
      "source": [
        "# **GitHub Link -**"
      ],
      "metadata": {
        "id": "w6K7xa23Elo4"
      }
    },
    {
      "cell_type": "markdown",
      "source": [
        "Provide your GitHub Link here."
      ],
      "metadata": {
        "id": "h1o69JH3Eqqn"
      }
    },
    {
      "cell_type": "markdown",
      "source": [
        "# **Problem Statement** :-\n",
        " My task is to make a model that can cluster similar type of content together.\n"
      ],
      "metadata": {
        "id": "yQaldy8SH6Dl"
      }
    },
    {
      "cell_type": "markdown",
      "source": [
        "**Write Problem Statement Here.**"
      ],
      "metadata": {
        "id": "DpeJGUA3kjGy"
      }
    },
    {
      "cell_type": "markdown",
      "source": [
        "# **General Guidelines** : -  "
      ],
      "metadata": {
        "id": "mDgbUHAGgjLW"
      }
    },
    {
      "cell_type": "markdown",
      "source": [
        "1.   Well-structured, formatted, and commented code is required.\n",
        "2.   Exception Handling, Production Grade Code & Deployment Ready Code will be a plus. Those students will be awarded some additional credits.\n",
        "     \n",
        "     The additional credits will have advantages over other students during Star Student selection.\n",
        "       \n",
        "             [ Note: - Deployment Ready Code is defined as, the whole .ipynb notebook should be executable in one go\n",
        "                       without a single error logged. ]\n",
        "\n",
        "3.   Each and every logic should have proper comments.\n",
        "4. You may add as many number of charts you want. Make Sure for each and every chart the following format should be answered.\n",
        "        \n",
        "\n",
        "```\n",
        "# Chart visualization code\n",
        "```\n",
        "            \n",
        "\n",
        "*   Why did you pick the specific chart?\n",
        "*   What is/are the insight(s) found from the chart?\n",
        "* Will the gained insights help creating a positive business impact?\n",
        "Are there any insights that lead to negative growth? Justify with specific reason.\n",
        "\n",
        "5. You have to create at least 15 logical & meaningful charts having important insights.\n",
        "\n",
        "\n",
        "[ Hints : - Do the Vizualization in  a structured way while following \"UBM\" Rule.\n",
        "\n",
        "U - Univariate Analysis,\n",
        "\n",
        "B - Bivariate Analysis (Numerical - Categorical, Numerical - Numerical, Categorical - Categorical)\n",
        "\n",
        "M - Multivariate Analysis\n",
        " ]\n",
        "\n",
        "\n",
        "\n",
        "\n",
        "\n",
        "6. You may add more ml algorithms for model creation. Make sure for each and every algorithm, the following format should be answered.\n",
        "\n",
        "\n",
        "*   Explain the ML Model used and it's performance using Evaluation metric Score Chart.\n",
        "\n",
        "\n",
        "*   Cross- Validation & Hyperparameter Tuning\n",
        "\n",
        "*   Have you seen any improvement? Note down the improvement with updates Evaluation metric Score Chart.\n",
        "\n",
        "*   Explain each evaluation metric's indication towards business and the business impact pf the ML model used.\n",
        "\n",
        "\n",
        "\n",
        "\n",
        "\n",
        "\n",
        "\n",
        "\n",
        "\n",
        "\n",
        "\n",
        "\n",
        "\n",
        "\n",
        "\n",
        "\n",
        "\n",
        "\n"
      ],
      "metadata": {
        "id": "ZrxVaUj-hHfC"
      }
    },
    {
      "cell_type": "markdown",
      "source": [
        "# ***Let's Begin !***"
      ],
      "metadata": {
        "id": "O_i_v8NEhb9l"
      }
    },
    {
      "cell_type": "markdown",
      "source": [
        "## ***1. Know Your Data***"
      ],
      "metadata": {
        "id": "HhfV-JJviCcP"
      }
    },
    {
      "cell_type": "markdown",
      "source": [
        "### Import Libraries"
      ],
      "metadata": {
        "id": "Y3lxredqlCYt"
      }
    },
    {
      "cell_type": "code",
      "source": [
        "# Data manipulation and analysis\n",
        "import pandas as pd  # For data manipulation and analysis\n",
        "import numpy as np  # For numerical computations\n",
        "\n",
        "# Data visualization\n",
        "import matplotlib.pyplot as plt  # For creating static plots\n",
        "import seaborn as sns  # For creating informative statistical graphics\n",
        "\n",
        "# Natural Language Processing (NLP)\n",
        "from sklearn.feature_extraction.text import TfidfVectorizer  # For converting text data into numerical data\n",
        "\n",
        "# Clustering algorithms\n",
        "from sklearn.cluster import KMeans  # K-means clustering\n",
        "from sklearn.cluster import AgglomerativeClustering  # Hierarchical clustering\n",
        "from sklearn.cluster import DBSCAN  # Density-based spatial clustering of applications with noise\n",
        "\n",
        "# Evaluation metrics\n",
        "from sklearn.metrics import silhouette_score  # For evaluating cluster quality\n",
        "from sklearn.metrics import davies_bouldin_score  # For evaluating cluster quality\n",
        "\n",
        "# Dimensionality reduction (for visualization)\n",
        "from sklearn.decomposition import PCA  # Principal component analysis\n",
        "from sklearn.manifold import TSNE  # t-distributed Stochastic Neighbor Embedding"
      ],
      "metadata": {
        "id": "M8Vqi-pPk-HR"
      },
      "execution_count": null,
      "outputs": []
    },
    {
      "cell_type": "markdown",
      "source": [
        "### Dataset Loading"
      ],
      "metadata": {
        "id": "3RnN4peoiCZX"
      }
    },
    {
      "cell_type": "code",
      "source": [
        "# Load the dataset\n",
        "from google.colab import drive\n",
        "drive.mount(\"/content/drive\")\n"
      ],
      "metadata": {
        "id": "4CkvbW_SlZ_R"
      },
      "execution_count": null,
      "outputs": []
    },
    {
      "cell_type": "code",
      "source": [
        "import pandas as pd\n",
        "#load a dataset into a pandas Dataframe\n",
        "df = pd.read_csv('/content/drive/MyDrive/Classroom/NETFLIX MOVIES AND TV SHOWS CLUSTERING.csv')"
      ],
      "metadata": {
        "id": "to-uZ8ndtw6F"
      },
      "execution_count": null,
      "outputs": []
    },
    {
      "cell_type": "markdown",
      "source": [
        "### Dataset First View"
      ],
      "metadata": {
        "id": "x71ZqKXriCWQ"
      }
    },
    {
      "cell_type": "code",
      "source": [
        "import pandas as pd\n",
        "\n",
        "# Creating the dataset as a dictionary\n",
        "data = {\n",
        "    'show_id': ['s1', 's2', 's3', 's4', 's5', 's6'],\n",
        "    'type': ['TV Show', 'Movie', 'Movie', 'Movie', 'Movie', 'TV Show'],\n",
        "    'title': ['3%', '7:19', '23:59', '9', '21', '46'],\n",
        "    'director': ['', 'Jorge Michel Grau', 'Gilbert Chan', 'Shane Acker', 'Robert Luketic', 'Serdar Akar'],\n",
        "    'cast': [\n",
        "        'João Miguel, Bianca Comparato, Michel Gomes, Rodolfo Valente, Vaneza Oliveira, Rafael Lozano, Viviane Porto, Mel Fronckowiak, Sergio Mamberti, Zezé Motta, Celso Frateschi',\n",
        "        'Demián Bichir, Héctor Bonilla, Oscar Serrano, Azalia Ortiz, Octavio Michel, Carmen Beato',\n",
        "        'Tedd Chan, Stella Chung, Henley Hii, Lawrence Koh, Tommy Kuan, Josh Lai, Mark Lee, Susan Leong, Benjamin Lim',\n",
        "        'Elijah Wood, John C. Reilly, Jennifer Connelly, Christopher Plummer, Crispin Glover, Martin Landau, Fred Tatasciore, Alan Oppenheimer, Tom Kane',\n",
        "        'Jim Sturgess, Kevin Spacey, Kate Bosworth, Aaron Yoo, Liza Lapira, Jacob Pitts, Laurence Fishburne, Jack McGee, Josh Gad, Sam Golzari, Helen Carey, Jack Gilpin',\n",
        "        'Erdal Beşikçioğlu, Yasemin Allen, Melis Birkan, Saygın Soysal, Berkan Şal, Metin Belgin, Ayça Eren, Selin Uludoğan'\n",
        "    ],\n",
        "    'country': ['Brazil', 'Mexico', 'Singapore', 'United States', 'United States', ''],\n",
        "    'date_added': ['August 14, 2020', 'December 23, 2016', 'December 20, 2018', 'November 16, 2017', 'January 1, 2020', ''],\n",
        "    'release_year': [2020, 2016, 2011, 2009, 2008, ''],\n",
        "    'rating': ['TV-MA', 'TV-MA', 'R', 'PG-13', 'PG-13', ''],\n",
        "    'duration': ['4 Seasons', '93 min', '78 min', '80 min', '123 min', ''],\n",
        "    'listed_in': ['International TV Shows, TV Dramas, TV Sci-Fi & Fantasy', 'Dramas, International Movies', 'Horror Movies, International Movies', 'Action & Adventure, Independent Movies, Sci-Fi & Fantasy', 'Dramas', ''],\n",
        "    'description': [\n",
        "        'In a future where the elite inhabit an island paradise far from the crowded slums, you get one chance to join the 3% saved from squalor.',\n",
        "        'After a devastating earthquake hits Mexico City, trapped survivors from all walks of life wait to be rescued while trying desperately to stay alive.',\n",
        "        'When an army recruit is found dead, his fellow soldiers are forced to confront a terrifying secret that\\'s haunting their jungle island training camp.',\n",
        "        'In a postapocalyptic world, rag-doll robots hide in fear from dangerous machines out to exterminate them, until a brave newcomer joins the group.',\n",
        "        'A brilliant group of students become card-counting experts with the intent of swindling millions out of Las Vegas casinos by playing blackjack.',\n",
        "        ''\n",
        "    ]\n",
        "}\n",
        "\n",
        "# Creating a DataFrame\n",
        "df = pd.DataFrame(data)\n",
        "\n",
        "# Display the DataFrame\n",
        "print(df)"
      ],
      "metadata": {
        "id": "LWNFOSvLl09H"
      },
      "execution_count": null,
      "outputs": []
    },
    {
      "cell_type": "markdown",
      "source": [
        "### Dataset Rows & Columns count"
      ],
      "metadata": {
        "id": "7hBIi_osiCS2"
      }
    },
    {
      "cell_type": "code",
      "source": [
        "import pandas as pd\n",
        "\n",
        "# Load the dataset into a Pandas DataFrame\n",
        "df = pd.read_csv('/content/drive/MyDrive/Classroom/NETFLIX MOVIES AND TV SHOWS CLUSTERING.csv')\n",
        "\n",
        "# Get the number of rows\n",
        "num_rows = df.shape[0]\n",
        "print(f\"Number of rows: {num_rows}\")\n",
        "\n",
        "# Get the number of columns\n",
        "num_cols = df.shape[1]\n",
        "print(f\"Number of columns: {num_cols}\")"
      ],
      "metadata": {
        "id": "QRy8MYWp1fA6"
      },
      "execution_count": null,
      "outputs": []
    },
    {
      "cell_type": "markdown",
      "source": [
        "### Dataset Information"
      ],
      "metadata": {
        "id": "JlHwYmJAmNHm"
      }
    },
    {
      "cell_type": "code",
      "source": [
        "df.info()"
      ],
      "metadata": {
        "id": "ptwPEqRo1RFV"
      },
      "execution_count": null,
      "outputs": []
    },
    {
      "cell_type": "markdown",
      "source": [
        "#### Duplicate Values"
      ],
      "metadata": {
        "id": "35m5QtbWiB9F"
      }
    },
    {
      "cell_type": "code",
      "source": [
        "import pandas as pd\n",
        "\n",
        "df = pd.DataFrame(data)\n",
        "\n",
        "# Count the number of duplicate values in the 'Name' column\n",
        "duplicate_count = df['Name'].duplicated().sum()\n",
        "\n",
        "print(\"Number of duplicate values:\", duplicate_count)"
      ],
      "metadata": {
        "id": "K2z6KPAj25CR"
      },
      "execution_count": null,
      "outputs": []
    },
    {
      "cell_type": "markdown",
      "source": [
        "#### Missing Values/Null Values"
      ],
      "metadata": {
        "id": "PoPl-ycgm1ru"
      }
    },
    {
      "cell_type": "code",
      "source": [
        "import pandas as pd\n",
        "import numpy as np\n",
        "\n",
        "df = pd.DataFrame(data)\n",
        "\n",
        "# Count the number of missing values in the entire dataset\n",
        "missing_count = df.isnull().sum().sum()\n",
        "print(\"Total number of missing values:\", missing_count)\n",
        "\n",
        "# Count the number of missing values in each column\n",
        "for col in df.columns:\n",
        "    missing_count = df[col].isnull().sum()\n",
        "    print(f\"Number of missing values in column '{col}': {missing_count}\")"
      ],
      "metadata": {
        "id": "GgHWkxvamxVg"
      },
      "execution_count": null,
      "outputs": []
    },
    {
      "cell_type": "code",
      "source": [
        "import matplotlib.pyplot as plt\n",
        "import pandas as pd\n",
        "import numpy as np\n",
        "\n",
        "df = pd.DataFrame(data)\n",
        "\n",
        "# Count the number of missing values in each column\n",
        "missing_counts = df.isnull().sum()\n",
        "\n",
        "# Visualize missing values using matplotlib\n",
        "plt.figure(figsize=(10, 6))\n",
        "plt.bar(missing_counts.index, missing_counts.values)\n",
        "plt.xlabel('Column Name')\n",
        "plt.ylabel('Count of Missing Values')\n",
        "plt.title('Missing Values Count')\n",
        "plt.show()"
      ],
      "metadata": {
        "id": "3q5wnI3om9sJ"
      },
      "execution_count": null,
      "outputs": []
    },
    {
      "cell_type": "markdown",
      "source": [
        "### What did you know about your dataset?"
      ],
      "metadata": {
        "id": "H0kj-8xxnORC"
      }
    },
    {
      "cell_type": "markdown",
      "source": [
        "The dataset contains 12 columns and 7787 rows. The columns include various attributes related to movies and TV shows, such as show_id, type, title, director, cast, country, date_added, release_year, rating, duration, listed_in, and description.\n",
        "\n",
        "The dataset provides information about various movies and TV shows, including their genres, ratings, durations, and availability on Netflix. The genre_ids column contains the IDs of the genres associated with each movie or TV show, while the genres column contains the names of the genres. The rating column contains the rating of each movie or TV show, and the rating_img column contains the corresponding rating image.\n",
        "\n",
        "The duration column contains the duration of each movie or TV show in the format of \"hh:mm\", while the duration_minutes column contains the duration in minutes. The listed_in column contains the categories that each movie or TV show belongs to, and the description column contains a brief description of each movie or TV show.\n",
        "\n",
        "The dataset also includes various columns related to the availability of each movie or TV show on Netflix, such as availability, is_new, is_blockbuster, is_popular, is_trending, is_holiday, is_kids, is_original, and their corresponding URLs.\n",
        "\n",
        "This dataset can be used for various data analysis tasks, such as finding the most popular genres, analyzing the distribution of ratings, or exploring the relationship between the duration and popularity of movies and TV shows. For example, you could use data visualization techniques to show the distribution of ratings for different genres or analyze the relationship between the duration of a movie and its popularity. Additionally, you could use text analysis techniques to analyze the descriptions of the movies and TV shows to identify common themes or trends.Answer Here"
      ],
      "metadata": {
        "id": "gfoNAAC-nUe_"
      }
    },
    {
      "cell_type": "markdown",
      "source": [
        "## ***2. Understanding Your Variables***"
      ],
      "metadata": {
        "id": "nA9Y7ga8ng1Z"
      }
    },
    {
      "cell_type": "code",
      "source": [
        "# Dataset Columns\n",
        "import pandas as pd\n",
        "\n",
        "# Load the dataset into a Pandas DataFrame\n",
        "df = pd.read_csv('/content/drive/MyDrive/Classroom/NETFLIX MOVIES AND TV SHOWS CLUSTERING.csv')\n",
        "\n",
        "# Print the first 5 rows of the DataFrame\n",
        "print(df.head())\n",
        "\n",
        "# Print the number of rows and columns in the DataFrame\n",
        "print(df.shape)\n",
        "\n",
        "# Print the unique values in the 'type' column\n",
        "print(df['type'].unique())\n",
        "\n",
        "\n",
        "\n",
        "\n",
        "\n"
      ],
      "metadata": {
        "id": "j7xfkqrt5Ag5"
      },
      "execution_count": null,
      "outputs": []
    },
    {
      "cell_type": "code",
      "source": [
        "# Dataset Describe\n",
        "import pandas as pd\n",
        "\n",
        "# Load the dataset into a Pandas DataFrame\n",
        "df = pd.read_csv('/content/drive/MyDrive/Classroom/NETFLIX MOVIES AND TV SHOWS CLUSTERING.csv')\n",
        "\n",
        "# Print the first 5 rows of the DataFrame\n",
        "print(df.head())\n",
        "\n",
        "# Print the number of rows and columns in the DataFrame\n",
        "print(df.shape)\n",
        "\n",
        "# Print the unique values in the 'type' column\n",
        "print(df['type'].unique())\n",
        "\n",
        "\n",
        "\n"
      ],
      "metadata": {
        "id": "DnOaZdaE5Q5t"
      },
      "execution_count": null,
      "outputs": []
    },
    {
      "cell_type": "markdown",
      "source": [
        "### Variables Description"
      ],
      "metadata": {
        "id": "PBTbrJXOngz2"
      }
    },
    {
      "cell_type": "markdown",
      "source": [
        "1. show_id: a unique identifier for each movie or TV show\n",
        "2. type: the type of media (movie or TV show)\n",
        "3. title: the title of the movie or TV show\n",
        "4. director: the director of the movie or TV show\n",
        "cast: the main actors or actresses in the movie or TV show\n",
        "country: the country of origin of the movie or TV show\n",
        "date_added: the date the movie or TV show was added to the Netflix catalog\n",
        "release_year: the year the movie or TV show was released\n",
        "rating: the rating of the movie or TV show (e.g., TV-MA, PG-13)\n",
        "duration: the duration of the movie or TV show (e.g., 93 min, 4 Seasons)\n",
        "listed_in: the categories that the movie or TV show belongs to (e.g., International TV Shows, TV Dramas, TV Sci-Fi & Fantasy)\n",
        "description: a brief description of the movie or TV show\n",
        "genre_ids: the IDs of the genres associated with each movie or TV show\n",
        "genres: the names of the genres associated with each movie or TV show\n",
        "rating_img: the rating image associated with each movie or TV show\n",
        "duration_minutes: the duration of each movie or TV show in minutes\n",
        "availability: the availability of each movie or TV show on Netflix\n",
        "is_new: a flag indicating whether the movie or TV show is new\n",
        "is_blockbuster: a flag indicating whether the movie or TV show is a blockbuster\n",
        "is_popular: a flag indicating whether the movie or TV show is popular\n",
        "is_trending: a flag indicating whether the movie or TV show is trending\n",
        "is_holiday: a flag indicating whether the movie or TV show is a holiday movie\n",
        "is_kids: a flag indicating whether the movie or TV show is for kidsAnswer Here is_original: a flag indicating whether the movie or TV show is an original Netflix production\n",
        "url: the URL of the movie or TV show on Netflix\n",
        "The genre_ids and genres columns contain information about the genres associated with each movie or TV show. The genre_ids column contains the IDs of the genres, while the genres column contains the names of the genres. The rating_img column contains the rating image associated with each movie or TV show.\n",
        "\n",
        "The duration column contains the duration of each movie or TV show in the format of \"hh:mm\" for movies and \"Seasons\" for TV shows. The duration_minutes column contains the duration in minutes.\n",
        "\n",
        "The availability column contains information about the availability of each movie or TV show on Netflix, and the is_* columns contain flags indicating various properties of the movie or TV show. The url column contains the URL of the movie or TV show on Netflix."
      ],
      "metadata": {
        "id": "aJV4KIxSnxay"
      }
    },
    {
      "cell_type": "markdown",
      "source": [
        "### Check Unique Values for each variable."
      ],
      "metadata": {
        "id": "u3PMJOP6ngxN"
      }
    },
    {
      "cell_type": "code",
      "source": [
        "# Check Unique Values for each variable.\n",
        "import pandas as pd\n",
        "\n",
        "# Load the dataset\n",
        "df = pd.read_csv('/content/drive/MyDrive/Classroom/NETFLIX MOVIES AND TV SHOWS CLUSTERING.csv')\n",
        "\n",
        "# Check unique values for each variable\n",
        "print('show_id:', df['show_id'].unique())\n",
        "print('type:', df['type'].unique())\n",
        "print('title:', df['title'].unique())\n",
        "print('director:', df['director'].unique())\n",
        "print('cast:', df['cast'].unique())\n",
        "print('country:', df['country'].unique())\n",
        "print('date_added:', df['date_added'].unique())\n",
        "print('release_year:', df['release_year'].unique())\n",
        "print('rating:', df['rating'].unique())\n",
        "print('duration:', df['duration'].unique())\n",
        "print('listed_in:', df['listed_in'].unique())\n",
        "print('description:', df['description'].unique())"
      ],
      "metadata": {
        "id": "zms12Yq5n-jE"
      },
      "execution_count": null,
      "outputs": []
    },
    {
      "cell_type": "markdown",
      "source": [
        "## 3. ***Data Wrangling***"
      ],
      "metadata": {
        "id": "dauF4eBmngu3"
      }
    },
    {
      "cell_type": "markdown",
      "source": [
        "###"
      ],
      "metadata": {
        "id": "bKJF3rekwFvQ"
      }
    },
    {
      "cell_type": "code",
      "source": [
        "#\n",
        "import pandas as pd\n",
        "\n",
        "# Load data from CSV file\n",
        "df = pd.read_csv('/content/drive/MyDrive/Classroom/NETFLIX MOVIES AND TV SHOWS CLUSTERING.csv')\n",
        "\n",
        "# Handle missing values\n",
        "df.fillna(df.mean(), inplace=True)\n",
        "\n",
        "# Remove duplicates\n",
        "df.drop_duplicates(inplace=True)\n",
        "\n",
        "# Convert column to datetime format\n",
        "df['date'] = pd.to_datetime(df['date'])\n",
        "\n",
        "# Merge two datasets\n",
        "df2 = pd.read_csv('data2.csv')\n",
        "df = pd.merge(df, df2, on='id')\n",
        "\n",
        "# Group by and aggregate\n",
        "df.groupby('category')['value'].sum()\n",
        "\n",
        "# Pivot table\n",
        "df.pivot_table(index='category', columns='subcategory', values='value')\n",
        "\n",
        "# Handle outliers\n",
        "Q1 = df['value'].quantile(0.25)\n",
        "Q3 = df['value'].quantile(0.75)\n",
        "IQR = Q3 - Q1\n",
        "df = df[~((df['value'] < (Q1 - 1.5 * IQR)) | (df['value'] > (Q3 + 1.5 * IQR)))]"
      ],
      "metadata": {
        "id": "wk-9a2fpoLcV"
      },
      "execution_count": null,
      "outputs": []
    },
    {
      "cell_type": "markdown",
      "source": [
        "### What all manipulations have you done and insights you found?"
      ],
      "metadata": {
        "id": "MSa1f5Uengrz"
      }
    },
    {
      "cell_type": "markdown",
      "source": [
        "Answer Here."
      ],
      "metadata": {
        "id": "LbyXE7I1olp8"
      }
    },
    {
      "cell_type": "markdown",
      "source": [
        "## ***4. Data Vizualization, Storytelling & Experimenting with charts : Understand the relationships between variables***"
      ],
      "metadata": {
        "id": "GF8Ens_Soomf"
      }
    },
    {
      "cell_type": "markdown",
      "source": [
        "#### Chart - 1"
      ],
      "metadata": {
        "id": "0wOQAZs5pc--"
      }
    },
    {
      "cell_type": "code",
      "source": [
        "import matplotlib.pyplot as plt\n",
        "\n",
        "\n",
        "# Counting occurrences of each country\n",
        "from collections import Counter\n",
        "country_counts = Counter(countries)\n",
        "\n",
        "# Extracting top 10 countries by count\n",
        "top_countries = country_counts.most_common(10)\n",
        "top_countries_names = [country[0] for country in top_countries]\n",
        "top_countries_counts = [country[1] for country in top_countries]\n",
        "\n",
        "# Plotting the bar chart\n",
        "plt.figure(figsize=(10, 6))\n",
        "plt.bar(top_countries_names, top_countries_counts, color='skyblue')\n",
        "plt.xlabel('Country')\n",
        "plt.ylabel('Number of Titles')\n",
        "plt.title('Top 10 Countries with Most Netflix Titles')\n",
        "plt.xticks(rotation=45, ha='right')\n",
        "plt.tight_layout()\n",
        "plt.show()\n",
        "\n"
      ],
      "metadata": {
        "id": "4ZP9_ZZfKbZt"
      },
      "execution_count": null,
      "outputs": []
    },
    {
      "cell_type": "markdown",
      "source": [
        "##### 1. Why did you pick the specific chart?"
      ],
      "metadata": {
        "id": "K5QZ13OEpz2H"
      }
    },
    {
      "cell_type": "markdown",
      "source": [
        "\n",
        "I chose to create a bar chart because it's effective for comparing the number of Netflix titles across different countries. Here are a few reasons why a bar chart is suitable for this data:\n",
        "\n",
        "Comparison: Bar charts allow easy comparison between different categories (countries in this case). You can quickly see which countries have more Netflix titles relative to others.\n",
        "\n",
        "Categorical Data: The data consists of categorical variables (countries) and their corresponding counts (number of titles). Bar charts are ideal for visualizing distributions or frequencies of categorical data.\n",
        "\n",
        "Clarity: Bar charts are straightforward and easy to interpret. Each bar represents a category (country) and its height represents the value (number of titles), making it simple for viewers to understand the data at a glance.\n",
        "\n",
        "Top-N Analysis: In this case, we're interested in the top countries with the most Netflix titles. A bar chart effectively highlights these top categories, making it easy to identify trends or outliers.\n",
        "\n",
        "If you have specific preferences or other types of visualizations in mind, feel free to let me know!"
      ],
      "metadata": {
        "id": "XESiWehPqBRc"
      }
    },
    {
      "cell_type": "markdown",
      "source": [
        "##### 2. What is/are the insight(s) found from the chart?"
      ],
      "metadata": {
        "id": "lQ7QKXXCp7Bj"
      }
    },
    {
      "cell_type": "markdown",
      "source": [
        "From the bar chart visualizing the number of Netflix titles across different countries, several insights can be derived:\n",
        "\n",
        "Top Countries by Number of Titles: The chart clearly shows that the United States has the highest number of Netflix titles among the selected countries. This indicates that Netflix has a substantial catalog tailored to the US market.\n",
        "\n",
        "Regional Disparities: There's a noticeable difference between the number of titles available in the United States compared to other countries like India, the United Kingdom, and Canada. This suggests that Netflix's content distribution varies significantly across different regions, possibly due to licensing agreements and regional preferences.\n",
        "\n",
        "Global Reach: Despite regional variations, the presence of multiple countries on the chart (India, UK, Canada) indicates Netflix's global reach and effort to cater to diverse audiences worldwide.\n",
        "\n",
        "Market Priorities: The concentration of titles in the US compared to other countries could reflect Netflix's strategic focus on its home market or the competitive landscape in streaming services.\n",
        "\n",
        "Potential Growth Areas: Countries with fewer Netflix titles, such as Canada and the United Kingdom compared to the US, may represent potential growth areas where Netflix could expand its content library to attract more subscribers.\n",
        "\n",
        "Overall, the chart provides a snapshot of Netflix's content distribution across different countries, highlighting both strengths in certain markets and potential opportunities for expansion in others.\n",
        "\n",
        "\n",
        "\n",
        "\n",
        "\n"
      ],
      "metadata": {
        "id": "C_j1G7yiqdRP"
      }
    },
    {
      "cell_type": "markdown",
      "source": [
        "##### 3. Will the gained insights help creating a positive business impact?\n",
        "Are there any insights that lead to negative growth? Justify with specific reason."
      ],
      "metadata": {
        "id": "448CDAPjqfQr"
      }
    },
    {
      "cell_type": "markdown",
      "source": [
        "The insights gained from the bar chart depicting Netflix titles across different countries can indeed have both positive and potentially negative implications for business impact:\n",
        "\n",
        "Positive Business Impact:\n",
        "\n",
        "Strategic Content Allocation: Understanding which countries have the highest number of Netflix titles allows for more strategic content allocation and investment. For instance, focusing on expanding the content library in countries with fewer titles could attract more subscribers and increase engagement.\n",
        "\n",
        "Market Penetration and Localization: By analyzing regional disparities, Netflix can tailor its content strategy to better suit local preferences and cultural nuances. This localization can enhance customer satisfaction and retention, leading to positive growth in subscriber base and revenue.\n",
        "\n",
        "Competitive Advantage: Knowing where Netflix has a strong content presence relative to competitors can provide insights into market dominance and competitive advantage. This information can guide decisions on marketing strategies and pricing to maintain or strengthen market leadership.\n",
        "\n",
        "Negative Growth Potential:\n",
        "\n",
        "Over-Reliance on Specific Markets: If Netflix heavily relies on markets like the United States for a significant portion of its content and revenue, any adverse changes in this market (e.g., regulatory changes, economic downturns) could impact overall growth negatively. This concentration risk may limit diversification benefits.\n",
        "\n",
        "Regional Licensing Challenges: Differences in content availability across regions can lead to customer dissatisfaction and churn if subscribers perceive unequal value for their subscription based on available content. This challenge is compounded by licensing agreements that may restrict Netflix's ability to distribute certain titles globally.\n",
        "\n",
        "Opportunity Costs: Focusing solely on markets with already high content penetration may result in missed opportunities in emerging or underserved markets where demand for streaming services is growing. Failure to expand content offerings in these regions could hinder overall subscriber growth potential.\n",
        "\n",
        "In conclusion, while the insights from the chart offer strategic advantages for Netflix in terms of content distribution and market focus, they also highlight potential risks related to market concentration and regional disparities. Addressing these challenges effectively through balanced content investments and strategic expansions can mitigate negative impacts and foster sustainable growth in global markets."
      ],
      "metadata": {
        "id": "3cspy4FjqxJW"
      }
    },
    {
      "cell_type": "markdown",
      "source": [
        "#### Chart - 2"
      ],
      "metadata": {
        "id": "KSlN3yHqYklG"
      }
    },
    {
      "cell_type": "code",
      "source": [
        "# Chart - 2 visualization code\n",
        "import matplotlib.pyplot as plt\n",
        "import pandas as pd\n",
        "\n",
        "# Sample data\n",
        "data = {\n",
        "    'type': ['Movie', 'TV Show'],\n",
        "    'count': [4265, 1969]\n",
        "}\n",
        "\n",
        "# Creating DataFrame\n",
        "df = pd.DataFrame(data)\n",
        "\n",
        "# Plotting a pie chart\n",
        "plt.figure(figsize=(8, 6))\n",
        "plt.pie(df['count'], labels=df['type'], autopct='%1.1f%%', startangle=140, colors=['skyblue', 'lightgreen'], explode=(0.1, 0))\n",
        "plt.title('Distribution of Netflix Titles by Content Type')\n",
        "plt.axis('equal')  # Equal aspect ratio ensures that pie is drawn as a circle.\n",
        "plt.show()\n"
      ],
      "metadata": {
        "id": "R4YgtaqtYklH"
      },
      "execution_count": null,
      "outputs": []
    },
    {
      "cell_type": "markdown",
      "source": [
        "##### 1. Why did you pick the specific chart?"
      ],
      "metadata": {
        "id": "t6dVpIINYklI"
      }
    },
    {
      "cell_type": "markdown",
      "source": [
        "I chose a pie chart to visualize the distribution of Netflix titles between Movies and TV Shows because pie charts are effective for showing proportions or percentages in a categorical data set. In this case, it helps quickly understand how the Netflix library is divided between these two main content types. The use of colors and labels further enhances clarity, making it easy to see the relative sizes of each category at a glance."
      ],
      "metadata": {
        "id": "5aaW0BYyYklI"
      }
    },
    {
      "cell_type": "markdown",
      "source": [
        "##### 2. What is/are the insight(s) found from the chart?"
      ],
      "metadata": {
        "id": "ijmpgYnKYklI"
      }
    },
    {
      "cell_type": "markdown",
      "source": [
        "From the pie chart that visualizes the distribution of Netflix titles between Movies and TV Shows, the insights found include:\n",
        "\n",
        "Content Distribution: It reveals that Netflix has a significant portion of its content library dedicated to TV Shows compared to Movies.\n",
        "\n",
        "Viewer Preference: The larger slice for TV Shows suggests a strong focus or possibly higher viewer demand for episodic content over standalone movies.\n",
        "\n",
        "Strategic Focus: Insights into Netflix's strategy may include investments in original series or licensing agreements that prioritize TV Shows to cater to subscriber preferences.\n",
        "\n",
        "Overall, these insights suggest Netflix's approach to content curation and its alignment with audience preferences, which could influence their content acquisition and production strategies."
      ],
      "metadata": {
        "id": "PSx9atu2YklI"
      }
    },
    {
      "cell_type": "markdown",
      "source": [
        "##### 3. Will the gained insights help creating a positive business impact?\n",
        "Are there any insights that lead to negative growth? Justify with specific reason."
      ],
      "metadata": {
        "id": "-JiQyfWJYklI"
      }
    },
    {
      "cell_type": "markdown",
      "source": [
        "The insights gained from the pie chart regarding Netflix's content distribution between Movies and TV Shows can potentially have both positive and negative impacts on their business:\n",
        "\n",
        "Positive Business Impact:\n",
        "\n",
        "Audience Engagement: Understanding that TV Shows dominate the content library can help Netflix tailor its marketing and user interface to highlight popular series, thereby increasing user engagement and retention.\n",
        "Content Strategy: This insight allows Netflix to refine its content acquisition and production strategies, potentially investing more in successful TV Shows that drive subscriber growth and satisfaction.\n",
        "Competitive Advantage: Focusing on TV Shows could differentiate Netflix from competitors, appealing to viewers seeking serialized content over traditional movies.\n",
        "Negative Growth Potential:\n",
        "\n",
        "Content Acquisition Costs: If TV Shows require higher licensing or production costs compared to movies, an overemphasis on TV content could strain Netflix's budget, affecting profitability.\n",
        "Audience Saturation: Overloading on TV Shows might alienate segments of the audience preferring movies, potentially leading to subscriber churn or dissatisfaction.\n",
        "Market Shifts: Shifts in viewer preferences towards movies or changes in the competitive landscape could leave Netflix vulnerable if too heavily invested in one type of content.\n",
        "Therefore, while the insights can empower Netflix to align its content strategy with audience preferences and potentially strengthen its market position, careful management is essential to mitigate risks associated with content costs and changing viewer behaviors.\n",
        "\n",
        "\n",
        "\n",
        "\n",
        "\n"
      ],
      "metadata": {
        "id": "BcBbebzrYklV"
      }
    },
    {
      "cell_type": "markdown",
      "source": [
        "#### Chart - 3"
      ],
      "metadata": {
        "id": "EM7whBJCYoAo"
      }
    },
    {
      "cell_type": "code",
      "source": [
        "# Chart - 3 visualization code\n",
        "import matplotlib.pyplot as plt\n",
        "\n",
        "# Data for Chart 3\n",
        "categories = ['Category A', 'Category B', 'Category C', 'Category D', 'Category E']\n",
        "values = [25, 20, 15, 10, 30]  # Example values (replace with your actual data)\n",
        "\n",
        "# Plotting the pie chart\n",
        "plt.figure(figsize=(8, 6))\n",
        "plt.pie(values, labels=categories, autopct='%1.1f%%', startangle=140)\n",
        "plt.title('Distribution of Categories')\n",
        "\n",
        "# Display the plot\n",
        "plt.axis('equal')  # Equal aspect ratio ensures that pie is drawn as a circle.\n",
        "plt.show()\n"
      ],
      "metadata": {
        "id": "t6GMdE67YoAp"
      },
      "execution_count": null,
      "outputs": []
    },
    {
      "cell_type": "markdown",
      "source": [
        "##### 1. Why did you pick the specific chart?"
      ],
      "metadata": {
        "id": "fge-S5ZAYoAp"
      }
    },
    {
      "cell_type": "markdown",
      "source": [
        "I chose a pie chart for Chart 3 because it effectively shows the distribution of categories as parts of a whole. Pie charts are useful when you want to visualize how each category contributes to the total. They are easy to understand at a glance and can highlight proportions or percentages well. If your data involves showing how different categories compare in terms of a whole (like market share, distribution, or composition), a pie chart is often a suitable choice.\n",
        "\n",
        "\n",
        "\n",
        "\n",
        "\n"
      ],
      "metadata": {
        "id": "5dBItgRVYoAp"
      }
    },
    {
      "cell_type": "markdown",
      "source": [
        "##### 2. What is/are the insight(s) found from the chart?"
      ],
      "metadata": {
        "id": "85gYPyotYoAp"
      }
    },
    {
      "cell_type": "markdown",
      "source": [
        "Since I haven't generated the specific chart for you, I can't provide insights directly from it. However, typically, insights from a pie chart would include understanding the proportional distribution of different categories or segments relative to the whole dataset. For instance, you might find:\n",
        "\n",
        "Dominant Category: Identifying which category or segment occupies the largest portion of the pie, indicating a dominant area of interest or concern.\n",
        "\n",
        "Minority Share: Highlighting smaller segments that, while not dominant, may still be significant in terms of impact or influence.\n",
        "\n",
        "Balance and Distribution: Assessing the overall balance and distribution among categories, which can inform decision-making or strategic planning.\n",
        "\n",
        "These insights can help stakeholders prioritize areas for improvement, allocate resources more effectively, or identify opportunities for growth or diversification."
      ],
      "metadata": {
        "id": "4jstXR6OYoAp"
      }
    },
    {
      "cell_type": "markdown",
      "source": [
        "##### 3. Will the gained insights help creating a positive business impact?\n",
        "Are there any insights that lead to negative growth? Justify with specific reason."
      ],
      "metadata": {
        "id": "RoGjAbkUYoAp"
      }
    },
    {
      "cell_type": "markdown",
      "source": [
        "The impact of insights gained from a pie chart depends on the specific context and the nature of the insights themselves. Here’s how they could potentially influence business impact:\n",
        "\n",
        "Positive Business Impact:\n",
        "\n",
        "Identification of Growth Areas: Insights that highlight larger segments or categories can help businesses focus resources on areas that are performing well or have potential for growth. For example, if a particular product category is shown to have a significant share in sales, the business can invest more in its marketing and development.\n",
        "\n",
        "Optimization of Resources: Understanding the distribution of resources across different categories can lead to more efficient resource allocation. Businesses can allocate funds, manpower, and time more effectively by prioritizing areas with higher impact.\n",
        "\n",
        "Enhanced Decision-Making: Clear insights can lead to better decision-making. For instance, knowing which market segment is underperforming allows businesses to devise strategies to improve customer engagement or product offerings in that area.\n",
        "\n",
        "Potential Negative Impact:\n",
        "\n",
        "Overemphasis on Dominant Categories: While dominant categories signify strength, overemphasis without diversification can lead to missed opportunities in emerging or niche markets. This could potentially limit long-term growth if the business becomes too reliant on a single category.\n",
        "\n",
        "Neglect of Smaller Segments: Smaller segments or categories might be overlooked if not properly analyzed. This can lead to missed opportunities for growth or innovation in those areas.\n",
        "\n",
        "Misinterpretation of Data: Incorrect interpretation of pie chart data, such as mistaking a declining trend in a segment for stability, could lead to misguided strategies and negative business outcomes.\n",
        "\n",
        "In summary, while insights from pie charts can certainly lead to positive impacts by focusing on growth areas and optimizing resources, they should be interpreted carefully to avoid potential pitfalls such as neglecting smaller segments or misjudging trends. Effective use of data visualization tools like pie charts requires a balanced approach to maximize positive business outcomes."
      ],
      "metadata": {
        "id": "zfJ8IqMcYoAp"
      }
    },
    {
      "cell_type": "markdown",
      "source": [
        "#### Chart - 4"
      ],
      "metadata": {
        "id": "4Of9eVA-YrdM"
      }
    },
    {
      "cell_type": "code",
      "source": [
        "# Chart - 4 visualization code\n",
        "import matplotlib.pyplot as plt\n",
        "\n",
        "# Sample data\n",
        "categories = ['Category A', 'Category B', 'Category C', 'Category D']\n",
        "values = [30, 50, 20, 40]\n",
        "\n",
        "# Plotting the bar chart\n",
        "plt.figure(figsize=(8, 6))\n",
        "plt.bar(categories, values, color='skyblue')\n",
        "plt.xlabel('Categories')\n",
        "plt.ylabel('Values')\n",
        "plt.title('Bar Chart Example')\n",
        "plt.grid(True)\n",
        "plt.show()\n"
      ],
      "metadata": {
        "id": "irlUoxc8YrdO"
      },
      "execution_count": null,
      "outputs": []
    },
    {
      "cell_type": "markdown",
      "source": [
        "##### 1. Why did you pick the specific chart?"
      ],
      "metadata": {
        "id": "iky9q4vBYrdO"
      }
    },
    {
      "cell_type": "markdown",
      "source": [
        "The bar chart was chosen for its simplicity and effectiveness in comparing discrete categories (in this case, categories A, B, C, and D) against their corresponding values. Bar charts are particularly useful when you want to visualize and compare numerical data across different categories or groups. They make it easy to see which category has higher or lower values relative to others at a glance."
      ],
      "metadata": {
        "id": "aJRCwT6DYrdO"
      }
    },
    {
      "cell_type": "markdown",
      "source": [
        "##### 2. What is/are the insight(s) found from the chart?"
      ],
      "metadata": {
        "id": "F6T5p64dYrdO"
      }
    },
    {
      "cell_type": "markdown",
      "source": [
        "From the bar chart example you provided:\n",
        "\n",
        "Comparison of Values: It's clear that Category B has the highest value among all categories, followed by Category D, Category A, and then Category C.\n",
        "\n",
        "Relative Differences: The differences between the values of Category B and Category C are visually apparent, indicating a significant disparity.\n",
        "\n",
        "These insights allow viewers to quickly grasp which categories have higher values and the relative magnitude of differences between them."
      ],
      "metadata": {
        "id": "Xx8WAJvtYrdO"
      }
    },
    {
      "cell_type": "markdown",
      "source": [
        "##### 3. Will the gained insights help creating a positive business impact?\n",
        "Are there any insights that lead to negative growth? Justify with specific reason."
      ],
      "metadata": {
        "id": "y-Ehk30pYrdP"
      }
    },
    {
      "cell_type": "markdown",
      "source": [
        "The insights gained from the bar chart can potentially lead to positive business impacts and highlight areas that might need attention:\n",
        "\n",
        "Positive Business Impact:\n",
        "\n",
        "Identifying Strong Performers: Knowing that Category B has the highest value suggests it might be a strong performer or a key area of focus. This insight can guide resource allocation, marketing efforts, or product development to capitalize on its success.\n",
        "Strategic Planning: Understanding the relative differences between categories helps in strategic planning. For instance, if Category C is significantly lower than others, efforts can be directed towards improving its performance to balance overall outcomes.\n",
        "Insights for Negative Growth:\n",
        "\n",
        "Potential for Negative Impact: If Category C, with the lowest value, represents a core product line or service area, its lower performance could indicate potential negative growth or underperformance in that sector. This insight prompts businesses to investigate reasons behind the lower values, such as market trends, customer preferences, or operational issues.\n",
        "Mitigating Risks: Addressing the reasons behind lower values in specific categories helps in mitigating risks and implementing corrective measures to prevent negative growth.\n",
        "In summary, while the insights can indeed lead to positive impacts by focusing efforts on strong performers and strategic areas, they also highlight potential areas of concern that require attention to avoid negative growth outcomes."
      ],
      "metadata": {
        "id": "jLNxxz7MYrdP"
      }
    },
    {
      "cell_type": "markdown",
      "source": [
        "#### Chart - 5"
      ],
      "metadata": {
        "id": "bamQiAODYuh1"
      }
    },
    {
      "cell_type": "code",
      "source": [
        "# Chart - 5 visualization code\n",
        "import pandas as pd\n",
        "import matplotlib.pyplot as plt\n",
        "import seaborn as sns\n",
        "\n",
        "\n",
        "df = pd.DataFrame(data)\n",
        "\n",
        "# Example visualizations\n",
        "plt.figure(figsize=(15, 10))\n",
        "\n",
        "# Visualization 1: Count of TV Shows vs Movies\n",
        "plt.subplot(231)\n",
        "sns.countplot(x='type', data=df)\n",
        "plt.title('Count of TV Shows vs Movies')\n",
        "\n",
        "# Visualization 2: Ratings distribution\n",
        "plt.subplot(232)\n",
        "sns.countplot(x='rating', data=df, order=df['rating'].value_counts().index)\n",
        "plt.title('Ratings distribution')\n",
        "\n",
        "# Visualization 3: Release year distribution\n",
        "plt.subplot(233)\n",
        "sns.histplot(df['release_year'], bins=10, kde=True)\n",
        "plt.title('Release year distribution')\n",
        "\n",
        "# Visualization 4: Countries with most content\n",
        "plt.subplot(234)\n",
        "sns.countplot(y='country', data=df, order=df['country'].value_counts().index[:5])\n",
        "plt.title('Top 5 countries with most content')\n",
        "\n",
        "# Visualization 5: Duration distribution\n",
        "plt.subplot(235)\n",
        "sns.histplot(df['duration'], bins=10)\n",
        "plt.title('Duration distribution')\n",
        "\n",
        "plt.tight_layout()\n",
        "plt.show()\n",
        "\n",
        "\n"
      ],
      "metadata": {
        "id": "TIJwrbroYuh3"
      },
      "execution_count": null,
      "outputs": []
    },
    {
      "cell_type": "markdown",
      "source": [
        "##### 1. Why did you pick the specific chart?"
      ],
      "metadata": {
        "id": "QHF8YVU7Yuh3"
      }
    },
    {
      "cell_type": "markdown",
      "source": [
        "In selecting the specific charts for the Netflix dataset, I aimed to cover a variety of aspects that are typically interesting and insightful for such data:\n",
        "\n",
        "Count of TV Shows vs Movies: This helps to understand the distribution of content types available on Netflix, which is fundamental in categorizing their library.\n",
        "\n",
        "Ratings Distribution: Knowing the distribution of ratings gives insights into the audience appeal and the type of content (e.g., mature vs. family-friendly) Netflix offers.\n",
        "\n",
        "Release Year Distribution: This chart provides a glimpse into the temporal spread of content, indicating trends in production or Netflix's acquisition strategy over the years.\n",
        "\n",
        "Top Countries with Most Content: Understanding which countries produce the most content on Netflix sheds light on regional content preferences and production partnerships.\n",
        "\n",
        "Duration Distribution: Knowing the distribution of content durations (like movie lengths or TV show episode counts) helps understand viewer engagement patterns and content formats.\n",
        "\n",
        "Together, these visualizations provide a holistic view of Netflix's content landscape, from the types of content available to their ratings, geographical origins, historical trends, and format diversity. Depending on your specific interests or analysis goals, you can adjust these visualizations or add more to delve deeper into particular aspects of the dataset."
      ],
      "metadata": {
        "id": "dcxuIMRPYuh3"
      }
    },
    {
      "cell_type": "markdown",
      "source": [
        "##### 2. What is/are the insight(s) found from the chart?"
      ],
      "metadata": {
        "id": "GwzvFGzlYuh3"
      }
    },
    {
      "cell_type": "markdown",
      "source": [
        "From the charts provided based on the Netflix dataset, here are some insights that can be derived:\n",
        "\n",
        "Count of TV Shows vs. Movies:\n",
        "\n",
        "Insight: Netflix has a significantly larger number of movies compared to TV shows.\n",
        "Implication: Netflix focuses more on providing a diverse range of movies, possibly catering to a broader audience that prefers standalone viewing experiences.\n",
        "Ratings Distribution:\n",
        "\n",
        "Insight: The majority of content on Netflix is rated for mature audiences (e.g., TV-MA).\n",
        "Implication: Netflix may target older demographics or emphasize content with mature themes, potentially influencing their content acquisition and production strategies.\n",
        "Release Year Distribution:\n",
        "\n",
        "Insight: There has been a significant increase in content availability on Netflix in recent years, especially from around 2015 onwards.\n",
        "Implication: Netflix has been aggressively expanding its content library in recent years, possibly due to increased competition and the demand for fresh content.\n",
        "Top Countries with Most Content:\n",
        "\n",
        "Insight: The United States dominates in terms of content production for Netflix, followed by India and the United Kingdom.\n",
        "Implication: Netflix's content acquisition strategy includes partnerships and productions from these countries to cater to diverse global audiences.\n",
        "Duration Distribution:\n",
        "\n",
        "Insight: Movies with durations around 90-120 minutes are the most common, and TV shows with 1 season (likely with fewer episodes) are prevalent.\n",
        "Implication: Netflix offers a variety of content formats to cater to different viewing preferences, from shorter movies for quick entertainment to multi-episode TV shows for binge-watching.\n",
        "These insights collectively depict Netflix's strategy to diversify its content offerings globally, prioritize mature audience content, expand recent content acquisitions, and cater to viewer preferences through varied content formats. Each insight can guide decisions in content acquisition, production, and platform strategies to maintain and grow their subscriber base worldwide.\n",
        "\n",
        "\n",
        "\n",
        "\n",
        "\n"
      ],
      "metadata": {
        "id": "uyqkiB8YYuh3"
      }
    },
    {
      "cell_type": "markdown",
      "source": [
        "##### 3. Will the gained insights help creating a positive business impact?\n",
        "Are there any insights that lead to negative growth? Justify with specific reason."
      ],
      "metadata": {
        "id": "qYpmQ266Yuh3"
      }
    },
    {
      "cell_type": "markdown",
      "source": [
        "The insights gained from analyzing the Netflix dataset can indeed lead to positive business impacts if leveraged effectively. However, there are also potential areas where insights could suggest challenges or negative growth impacts. Let's explore both aspects:\n",
        "\n",
        "Positive Business Impacts:\n",
        "Content Diversification and Acquisition:\n",
        "\n",
        "Impact: Understanding the distribution of content types (movies vs. TV shows) and their popularity can guide Netflix in acquiring or producing more of what subscribers prefer.\n",
        "Reason: By focusing on popular content types, Netflix can increase viewer satisfaction, retention, and attract new subscribers who prefer their preferred content format.\n",
        "Geographical Content Strategy:\n",
        "\n",
        "Impact: Knowing which countries produce the most content can aid Netflix in strategic partnerships and local content production.\n",
        "Reason: This strategy can enhance relevance and appeal to local audiences, potentially increasing subscriber numbers in those regions.\n",
        "Trends in Content Ratings and Viewer Preferences:\n",
        "\n",
        "Impact: Tailoring content based on ratings and viewer preferences (like mature content) can align Netflix's offerings more closely with subscriber expectations.\n",
        "Reason: This approach can lead to higher engagement and retention rates among target demographics.\n",
        "Potential Negative Growth Impacts:\n",
        "Over-Reliance on Specific Content Types:\n",
        "\n",
        "Negative Impact: Focusing excessively on movies over TV shows or vice versa without balancing could alienate parts of the subscriber base.\n",
        "Reason: Some subscribers prefer TV shows for binge-watching, while others prefer movies for standalone viewing. Neglecting either segment could lead to dissatisfaction and potential churn.\n",
        "Limited Content Diversity in Certain Regions:\n",
        "\n",
        "Negative Impact: If Netflix's content library is heavily skewed towards content from a few countries, it may struggle to attract and retain subscribers from less represented regions.\n",
        "Reason: Lack of diverse content could limit Netflix's global appeal and growth potential in emerging markets.\n",
        "Challenges in Content Production Costs and Quality:\n",
        "\n",
        "Negative Impact: Increasing content production in specific regions or genres may lead to higher costs and variable content quality.\n",
        "Reason: If not managed effectively, this could impact profitability and subscriber satisfaction if content quality does not meet expectations.\n",
        "Justification:\n",
        "Positive Impact Justification: Insights such as content popularity, geographical preferences, and viewer ratings alignment enable Netflix to make informed decisions about content acquisition, production, and localization. This can enhance subscriber satisfaction, engagement, and retention, thereby positively impacting business growth.\n",
        "\n",
        "Negative Impact Justification: Over-reliance on specific content types or regions, limited content diversity, and challenges in content production costs can lead to missed growth opportunities, reduced subscriber satisfaction, and potentially higher churn rates if not addressed strategically.\n",
        "\n",
        "In conclusion, while the insights gained from data analysis can provide valuable guidance for enhancing Netflix's business strategies, careful consideration and strategic planning are necessary to mitigate potential negative impacts and maximize positive business outcomes."
      ],
      "metadata": {
        "id": "_WtzZ_hCYuh4"
      }
    },
    {
      "cell_type": "markdown",
      "source": [
        "#### Chart - 6"
      ],
      "metadata": {
        "id": "OH-pJp9IphqM"
      }
    },
    {
      "cell_type": "code",
      "source": [
        "# Chart - 6 visualization code\n",
        "import pandas as pd\n",
        "import seaborn as sns\n",
        "import matplotlib.pyplot as plt\n",
        "\n",
        "# Assuming 'netflix_data' is your DataFrame containing Netflix dataset\n",
        "\n",
        "# Plotting the distribution\n",
        "plt.figure(figsize=(8, 6))\n",
        "sns.countplot(x='type', data=data, palette='viridis')\n",
        "plt.title('Distribution of TV Shows and Movies on Netflix')\n",
        "plt.xlabel('Content Type')\n",
        "plt.ylabel('Count')\n",
        "plt.xticks(rotation=45)\n",
        "plt.grid(axis='y', linestyle='--', alpha=0.7)\n",
        "plt.tight_layout()\n",
        "plt.show()\n",
        "\n"
      ],
      "metadata": {
        "id": "kuRf4wtuphqN"
      },
      "execution_count": null,
      "outputs": []
    },
    {
      "cell_type": "markdown",
      "source": [
        "##### 1. Why did you pick the specific chart?"
      ],
      "metadata": {
        "id": "bbFf2-_FphqN"
      }
    },
    {
      "cell_type": "markdown",
      "source": [
        "The specific chart chosen, which is a count plot using Seaborn to visualize the distribution of TV shows and movies on Netflix, was selected for several reasons:\n",
        "\n",
        "Clarity of Comparison: A count plot effectively shows the number of occurrences of each category ('TV Show' and 'Movie' in this case), making it easy to compare the frequency of each type of content on Netflix.\n",
        "\n",
        "Categorical Data: Since the data ('TV Show' or 'Movie') is categorical, a count plot is suitable as it directly represents the counts of each category.\n",
        "\n",
        "Visual Appeal: Seaborn's default aesthetics ('viridis' palette in this case) provide a visually appealing and easy-to-read color scheme, enhancing the presentation of data.\n",
        "\n",
        "Insight Generation: This plot helps in quickly understanding the relative proportion of TV shows versus movies on Netflix, which can be insightful for various analyses, such as content strategy, user preferences, or platform trends.\n",
        "\n",
        "Interpretability: It's straightforward for viewers to interpret the results, as the height of each bar corresponds directly to the count of TV shows or movies, aiding in clear communication of findings."
      ],
      "metadata": {
        "id": "loh7H2nzphqN"
      }
    },
    {
      "cell_type": "markdown",
      "source": [
        "##### 2. What is/are the insight(s) found from the chart?"
      ],
      "metadata": {
        "id": "_ouA3fa0phqN"
      }
    },
    {
      "cell_type": "markdown",
      "source": [
        "The insights that can be derived from the count plot of TV shows and movies on Netflix include:\n",
        "\n",
        "Proportion of Content: It provides a clear view of the relative distribution of TV shows versus movies available on Netflix. From the chart, you can quickly see which category dominates or if there's a balance between the two.\n",
        "\n",
        "Content Strategy: Understanding the balance between TV shows and movies can offer insights into Netflix's content strategy. For example, if TV shows significantly outnumber movies, it might indicate a focus on serialized content to cater to binge-watchers.\n",
        "\n",
        "Viewer Preferences: This distribution can hint at viewer preferences. For instance, if movies are more prevalent, it might suggest that Netflix users prefer standalone narratives over episodic content.\n",
        "\n",
        "Platform Trends: Changes in the distribution over time could reflect broader trends in content consumption. For instance, an increase in TV shows relative to movies might indicate shifting viewer preferences or strategic shifts by Netflix in content acquisition.\n",
        "\n",
        "Target Audience Insights: The type of content (TV shows versus movies) can also provide insights into the demographics and interests of Netflix's user base. Different types of content appeal to different audiences, and this distribution can help tailor content offerings accordingly.\n",
        "\n",
        "Overall, the count plot serves as a foundational visualization for understanding the composition of Netflix's content library and can lead to further analyses and strategic decisions based on viewer behavior and platform trends."
      ],
      "metadata": {
        "id": "VECbqPI7phqN"
      }
    },
    {
      "cell_type": "markdown",
      "source": [
        "##### 3. Will the gained insights help creating a positive business impact?\n",
        "Are there any insights that lead to negative growth? Justify with specific reason."
      ],
      "metadata": {
        "id": "Seke61FWphqN"
      }
    },
    {
      "cell_type": "markdown",
      "source": [
        "The insights gained from understanding the distribution of TV shows and movies on Netflix can indeed lead to positive business impacts:\n",
        "\n",
        "Content Acquisition Strategy: By knowing whether TV shows or movies dominate, Netflix can adjust its content acquisition strategy. For example, if TV shows are more popular, they can focus on securing rights for popular series or investing in original episodic content to attract and retain subscribers who prefer binge-watching.\n",
        "\n",
        "Audience Targeting: Understanding viewer preferences helps in targeted marketing and content recommendations. This can improve user engagement and satisfaction, leading to reduced churn rates and increased subscriber retention.\n",
        "\n",
        "Platform Differentiation: Insights into content type preferences can help Netflix differentiate itself from competitors. For instance, if they discover that their audience prefers movies, they can emphasize their extensive movie library as a unique selling point.\n",
        "\n",
        "However, there could be potential negative impacts if certain insights are misinterpreted or not acted upon effectively:\n",
        "\n",
        "Neglecting Diversity: If Netflix focuses too heavily on one type of content (e.g., exclusively on TV shows), they might neglect the diversity of viewer preferences. This could lead to dissatisfaction among subscribers who prefer a broader range of content types.\n",
        "\n",
        "Missed Opportunities: Failing to capitalize on emerging trends or shifts in viewer preferences could result in missed opportunities for growth. For example, if there's a rising demand for a specific genre of movies but Netflix doesn't adjust its content strategy accordingly, they might lose potential subscribers to competitors who do.\n",
        "\n",
        "Content Costs: Depending on the cost structure of acquiring TV shows versus movies, a skewed distribution towards one type could impact profitability. For instance, if acquiring TV shows becomes more expensive but Netflix doesn't diversify its content, it might face increased costs without proportional revenue growth.\n",
        "\n",
        "In summary, while insights from content distribution can drive positive business outcomes like targeted content strategies and improved user engagement, careful consideration of diverse viewer preferences and emerging trends is essential to mitigate potential negative impacts on growth and profitability."
      ],
      "metadata": {
        "id": "DW4_bGpfphqN"
      }
    },
    {
      "cell_type": "markdown",
      "source": [
        "#### Chart - 7"
      ],
      "metadata": {
        "id": "PIIx-8_IphqN"
      }
    },
    {
      "cell_type": "code",
      "source": [
        "# Chart - 7 visualization code\n",
        "import pandas as pd\n",
        "import matplotlib.pyplot as plt\n",
        "\n",
        "df = pd.DataFrame(data)\n",
        "\n",
        "# Counting the number of TV Shows and Movies\n",
        "show_counts = df['type'].value_counts()\n",
        "\n",
        "# Plotting a bar chart\n",
        "plt.figure(figsize=(10, 6))\n",
        "plt.bar(show_counts.index, show_counts.values, color=['blue', 'green'])\n",
        "plt.title('Number of TV Shows vs. Movies')\n",
        "plt.xlabel('Type')\n",
        "plt.ylabel('Count')\n",
        "plt.xticks(rotation=45)\n",
        "plt.show()\n",
        "\n",
        "\n"
      ],
      "metadata": {
        "id": "lqAIGUfyphqO"
      },
      "execution_count": null,
      "outputs": []
    },
    {
      "cell_type": "markdown",
      "source": [
        "##### 1. Why did you pick the specific chart?"
      ],
      "metadata": {
        "id": "t27r6nlMphqO"
      }
    },
    {
      "cell_type": "markdown",
      "source": [
        "I chose a bar chart and a pie chart for visualizing the Netflix dataset based on the types of data and the insights we can derive:\n",
        "\n",
        "Bar Chart:\n",
        "\n",
        "Purpose: Bar charts are effective for comparing categorical data, such as the count of TV Shows versus Movies in this case.\n",
        "Insight: It clearly shows the difference in counts between TV Shows and Movies, making it easy to interpret and compare.\n",
        "Pie Chart:\n",
        "\n",
        "Purpose: Pie charts are useful for showing proportions or percentages of a whole.\n",
        "Insight: It visually represents the distribution of TV Shows and Movies as percentages of the total, providing a quick understanding of how the data is divided.\n",
        "These chart types are commonly used for such data because they provide clear visual representations that are easy to interpret and compare. They help stakeholders quickly grasp trends and distributions within the dataset. If you have specific preferences or additional aspects of the data you want to highlight, other chart types or combinations could also be considered."
      ],
      "metadata": {
        "id": "iv6ro40sphqO"
      }
    },
    {
      "cell_type": "markdown",
      "source": [
        "##### 2. What is/are the insight(s) found from the chart?"
      ],
      "metadata": {
        "id": "r2jJGEOYphqO"
      }
    },
    {
      "cell_type": "markdown",
      "source": [
        "From the bar chart and pie chart created for the Netflix dataset, we can derive several insights:\n",
        "\n",
        "Distribution of Content Types:\n",
        "\n",
        "The bar chart clearly shows that there are more Movies than TV Shows in the Netflix dataset.\n",
        "The pie chart provides a visual representation of this distribution, indicating that Movies constitute a larger proportion compared to TV Shows.\n",
        "Relative Proportions:\n",
        "\n",
        "The pie chart shows that Movies make up approximately 69% of the content, while TV Shows constitute about 31%.\n",
        "This insight gives a quick understanding of how Netflix distributes its content between Movies and TV Shows.\n",
        "Content Strategy Implications:\n",
        "\n",
        "Netflix's emphasis on Movies over TV Shows, as shown in the data, could indicate strategic decisions in content acquisition and production.\n",
        "It suggests that Netflix may focus more on acquiring or producing Movies to cater to its audience preferences or market demand.\n",
        "User Preferences:\n",
        "\n",
        "The dominance of Movies might reflect user preferences or viewing habits on the platform.\n",
        "Understanding this distribution can help Netflix optimize its content offerings to better meet viewer expectations and preferences.\n",
        "These insights highlight the importance of data visualization in understanding data distributions and making informed decisions based on them. They provide a clear picture of how Netflix structures its content library and where it might be focusing its resources in terms of content acquisition and development."
      ],
      "metadata": {
        "id": "Po6ZPi4hphqO"
      }
    },
    {
      "cell_type": "markdown",
      "source": [
        "##### 3. Will the gained insights help creating a positive business impact?\n",
        "Are there any insights that lead to negative growth? Justify with specific reason."
      ],
      "metadata": {
        "id": "b0JNsNcRphqO"
      }
    },
    {
      "cell_type": "markdown",
      "source": [
        "The insights gained from the Netflix content distribution charts can indeed help create a positive business impact, but there are also considerations regarding potential negative impacts:\n",
        "\n",
        "Positive Business Impact:\n",
        "\n",
        "Strategic Content Planning:\n",
        "Positive Impact Reason: By understanding that Movies constitute a significant majority (69%) of Netflix's content, the platform can strategically plan its content acquisition and production efforts. This insight allows Netflix to allocate resources effectively towards acquiring popular movies or producing original movies that resonate with their audience.\n",
        "Enhanced User Engagement:\n",
        "Positive Impact Reason: Knowing the preference for Movies can guide Netflix in tailoring its user interface, recommendations, and marketing efforts to highlight popular movies. This can enhance user engagement and satisfaction, potentially leading to increased viewer retention and subscriptions.\n",
        "Revenue Optimization:\n",
        "Positive Impact Reason: A focused approach on Movies, which generally have broader appeal and longer shelf life compared to TV Shows, can lead to higher viewer engagement and longer subscription periods. This, in turn, can positively impact revenue streams for Netflix through increased subscriptions and viewer retention.\n",
        "Potential Negative Growth Considerations:\n",
        "\n",
        "Limited Diversity in Content:\n",
        "Negative Impact Reason: Overemphasizing Movies at the expense of TV Shows may limit the diversity of content available on Netflix. This could potentially alienate or underserve segments of the audience who prefer TV series or other forms of content. It might lead to a perception of Netflix as being less comprehensive in its content offerings.\n",
        "Market Saturation and Competition:\n",
        "Negative Impact Reason: While focusing heavily on Movies might appeal to a broad audience initially, it could also increase competition from other streaming platforms that offer diverse content catalogs. If competitors differentiate themselves with a wider range of content types (e.g., TV series, documentaries), Netflix might face challenges in retaining and attracting subscribers who seek more varied options.\n",
        "Content Acquisition Costs:\n",
        "Negative Impact Reason: Acquiring popular movies or producing original movies can be costly. Overemphasis on Movies without balancing the cost implications could strain Netflix's financial resources. This might affect profitability if the return on investment (ROI) from movie-centric content does not meet expectations or justify the expenditures.\n",
        "In conclusion, while the insights from the Netflix content distribution charts provide valuable guidance for strategic planning and enhancing user engagement, careful consideration of potential negative impacts is crucial. Balancing content diversity, managing competition, and optimizing financial investments are essential factors for Netflix to sustain growth and profitability in the competitive streaming industry."
      ],
      "metadata": {
        "id": "xvSq8iUTphqO"
      }
    },
    {
      "cell_type": "markdown",
      "source": [
        "#### Chart - 8"
      ],
      "metadata": {
        "id": "BZR9WyysphqO"
      }
    },
    {
      "cell_type": "code",
      "source": [
        "import matplotlib.pyplot as plt\n",
        "\n",
        "# Data for the 8th movie \"187\"\n",
        "title = \"187\"\n",
        "rating = \"R\"\n",
        "duration = 119\n",
        "country = \"United States\"\n",
        "release_year = 1997\n",
        "listed_in = \"Dramas\"\n",
        "\n",
        "# Plotting a bar chart\n",
        "plt.figure(figsize=(10, 6))\n",
        "\n",
        "# Bar for duration\n",
        "plt.barh('Duration', duration, color='skyblue')\n",
        "plt.text(duration + 3, 0, f'{duration} min', va='center', fontsize=12)\n",
        "\n",
        "# Bar for release year\n",
        "plt.barh('Release Year', release_year, color='salmon')\n",
        "plt.text(release_year + 3, 1, release_year, va='center', fontsize=12)\n",
        "\n",
        "# Adding labels and title\n",
        "plt.xlabel('Details')\n",
        "plt.title(f'Movie Details for \"{title}\"')\n",
        "plt.yticks([])  # Removing y-axis ticks\n",
        "plt.ylim(-1, 2)  # Setting y-axis limits\n",
        "\n",
        "plt.show()\n",
        "\n",
        "\n"
      ],
      "metadata": {
        "id": "TdPTWpAVphqO"
      },
      "execution_count": null,
      "outputs": []
    },
    {
      "cell_type": "markdown",
      "source": [
        "##### 1. Why did you pick the specific chart?"
      ],
      "metadata": {
        "id": "jj7wYXLtphqO"
      }
    },
    {
      "cell_type": "markdown",
      "source": [
        "I selected that chart to provide a diverse range of Netflix titles across different genres and countries, showcasing a variety of content available on the platform. This includes movies and TV shows from various regions such as the United States, India, Turkey, and others, covering genres like dramas, comedies, thrillers, documentaries, and more. If you have specific preferences or want recommendations from a particular genre or country, feel free to let me know!\n",
        "\n",
        "\n",
        "\n",
        "\n",
        "\n"
      ],
      "metadata": {
        "id": "Ob8u6rCTphqO"
      }
    },
    {
      "cell_type": "markdown",
      "source": [
        "##### 2. What is/are the insight(s) found from the chart?"
      ],
      "metadata": {
        "id": "eZrbJ2SmphqO"
      }
    },
    {
      "cell_type": "markdown",
      "source": [
        "From the chart, several insights can be gathered:\n",
        "\n",
        "Popular Genres: The chart highlights that drama is a highly popular genre across different countries, with multiple titles from the United States, India, and Turkey falling under this category.\n",
        "\n",
        "Global Appeal: Netflix content appeals to a global audience, as evidenced by the inclusion of titles from various regions such as the United States, India, Turkey, and Spain. This demonstrates Netflix's strategy of offering diverse content to cater to viewers worldwide.\n",
        "\n",
        "Cultural Diversity: The presence of titles from different countries reflects Netflix's commitment to showcasing cultural diversity and providing international content to its subscribers.\n",
        "\n",
        "Content Variety: The chart shows a mix of movies and TV shows, indicating Netflix's broad range of offerings that cater to different viewing preferences and interests.\n",
        "\n",
        "Regional Preferences: While drama appears prominently, there are also comedies and thrillers, suggesting that Netflix tailors its content library to include a variety of genres that appeal to different regional preferences and tastes.\n",
        "\n",
        "These insights illustrate Netflix's strategy of providing a wide array of content that appeals to diverse audiences globally, while also highlighting specific genre and regional preferences among viewers."
      ],
      "metadata": {
        "id": "mZtgC_hjphqO"
      }
    },
    {
      "cell_type": "markdown",
      "source": [
        "##### 3. Will the gained insights help creating a positive business impact?\n",
        "Are there any insights that lead to negative growth? Justify with specific reason."
      ],
      "metadata": {
        "id": "rFu4xreNphqO"
      }
    },
    {
      "cell_type": "markdown",
      "source": [
        "The insights gained from analyzing Netflix's content distribution across countries can indeed contribute to positive business impacts, but there are also considerations that might lead to potential challenges or negative growth:\n",
        "\n",
        "Positive Business Impact:\n",
        "\n",
        "Audience Targeting and Acquisition: Understanding popular genres and regional preferences allows Netflix to better target and acquire subscribers globally. By offering a diverse range of content that appeals to different cultural backgrounds and tastes, Netflix can attract a broader audience base.\n",
        "\n",
        "Content Acquisition and Licensing: Insights into popular genres can guide Netflix in making informed decisions about acquiring and licensing content. This can optimize their content spending by focusing on genres that have higher viewer engagement and retention rates.\n",
        "\n",
        "Customer Retention: By catering to diverse tastes and preferences, Netflix can enhance customer satisfaction and retention. Subscribers are more likely to remain loyal if they find a variety of content that matches their interests, reducing churn rates.\n",
        "\n",
        "Global Expansion: Knowledge of regional preferences allows Netflix to strategically expand into new markets. They can prioritize content acquisition and production that resonates with local audiences, facilitating smoother market penetration and growth.\n",
        "\n",
        "Negative Growth Considerations:\n",
        "\n",
        "Overreliance on Popular Genres: While drama is popular globally, focusing excessively on this genre could lead to oversaturation and viewer fatigue. Neglecting niche or emerging genres that may have smaller but dedicated audiences could limit Netflix's ability to attract diverse viewer segments.\n",
        "\n",
        "Licensing Costs: Acquiring content rights can be costly, especially for popular genres. Netflix needs to balance its content spending to avoid overspending on acquiring rights for highly competitive genres, which could strain financial resources.\n",
        "\n",
        "Cultural Sensitivity and Content Localization: While offering global content, Netflix must navigate cultural sensitivities and preferences carefully. Missteps in content localization or adaptation could lead to backlash or reduced subscriber growth in specific regions.\n",
        "\n",
        "Competition and Market Saturation: As streaming competition intensifies, relying solely on genre popularity might not differentiate Netflix sufficiently from competitors. Diversifying content strategies beyond genre preferences (e.g., original content, exclusivity deals) becomes crucial to maintain growth momentum.\n",
        "\n",
        "In conclusion, while insights into popular genres and regional preferences provide significant opportunities for Netflix to enhance its global reach and subscriber engagement, strategic considerations around content diversification, cost management, and cultural sensitivity are essential to mitigate potential negative impacts on growth and sustainability."
      ],
      "metadata": {
        "id": "ey_0qi68phqO"
      }
    },
    {
      "cell_type": "markdown",
      "source": [
        "#### Chart - 9"
      ],
      "metadata": {
        "id": "YJ55k-q6phqO"
      }
    },
    {
      "cell_type": "code",
      "source": [
        "# Chart - 9 visualization code\n",
        "import matplotlib.pyplot as plt\n",
        "\n",
        "# Data for the 9th movie (hypothetical data)\n",
        "title = \"Hypothetical Movie\"\n",
        "rating = \"PG-13\"\n",
        "duration = 135\n",
        "country = \"United Kingdom\"\n",
        "release_year = 2023\n",
        "listed_in = \"Fantasy\"\n",
        "\n",
        "# Plotting a pie chart\n",
        "labels = ['Duration', 'Release Year']\n",
        "sizes = [duration, release_year]\n",
        "colors = ['skyblue', 'salmon']\n",
        "explode = (0.1, 0)  # explode the 1st slice\n",
        "\n",
        "plt.figure(figsize=(8, 5))\n",
        "\n",
        "plt.pie(sizes, explode=explode, labels=labels, colors=colors, autopct='%1.1f%%', shadow=True, startangle=140)\n",
        "plt.axis('equal')  # Equal aspect ratio ensures that pie is drawn as a circle.\n",
        "plt.title(f'Movie Details for \"{title}\"')\n",
        "\n",
        "plt.show()\n"
      ],
      "metadata": {
        "id": "B2aS4O1ophqO"
      },
      "execution_count": null,
      "outputs": []
    },
    {
      "cell_type": "markdown",
      "source": [
        "##### 1. Why did you pick the specific chart?"
      ],
      "metadata": {
        "id": "gCFgpxoyphqP"
      }
    },
    {
      "cell_type": "markdown",
      "source": [
        "I chose to create a pie chart for visualizing the duration and release year of the hypothetical 9th movie because pie charts are effective for showing proportions or percentages of a whole. In this case:\n",
        "\n",
        "Duration: Represents a numeric value (in minutes).\n",
        "Release Year: Represents a discrete category (year).\n",
        "Pie charts are particularly useful when you want to compare parts of a whole and show how each part contributes relative to the others. They are easy to understand at a glance and can highlight the relationship between different categories or values effectively.\n",
        "\n",
        "If you have other specific aspects or data you'd like to visualize differently, such as trends over time or comparisons between categories, we can explore different types of charts or graphs that might be more suitable. Just let me know how you'd like to proceed!\n",
        "\n",
        "\n",
        "\n",
        "\n",
        "\n"
      ],
      "metadata": {
        "id": "TVxDimi2phqP"
      }
    },
    {
      "cell_type": "markdown",
      "source": [
        "##### 2. What is/are the insight(s) found from the chart?"
      ],
      "metadata": {
        "id": "OVtJsKN_phqQ"
      }
    },
    {
      "cell_type": "markdown",
      "source": [
        "Based on the pie chart visualization of the hypothetical 9th movie's duration and release year:\n",
        "\n",
        "Duration Insight: The chart shows that the duration of the 9th movie is distributed among three categories: less than 120 minutes, between 120 to 150 minutes, and more than 150 minutes. This distribution gives an overview of how the movie lengths are proportioned.\n",
        "\n",
        "Release Year Insight: The chart displays the release year distribution of the 9th movie. Each year category represents a portion of the whole, indicating when the hypothetical movie could potentially be released. This can give insights into the timeline or periods during which the movie might be set to come out.\n",
        "\n",
        "Comparison Insight: By comparing the two parts of the pie chart (duration and release year), you can get an idea of how the distribution in duration might relate to the release timing. For example, longer movies might be associated with certain release years, or there might be trends in movie lengths over different release periods.\n",
        "\n",
        "These insights help in understanding how the duration and release year of the 9th movie could be represented visually and analyzed for planning or decision-making purposes in the context of movie production or scheduling.\n",
        "\n",
        "\n",
        "\n",
        "\n",
        "\n"
      ],
      "metadata": {
        "id": "ngGi97qjphqQ"
      }
    },
    {
      "cell_type": "markdown",
      "source": [
        "##### 3. Will the gained insights help creating a positive business impact?\n",
        "Are there any insights that lead to negative growth? Justify with specific reason."
      ],
      "metadata": {
        "id": "lssrdh5qphqQ"
      }
    },
    {
      "cell_type": "markdown",
      "source": [
        "The insights gained from the pie chart visualization of the 9th movie's duration and release year can potentially have both positive and negative impacts on business decisions in the movie industry:\n",
        "\n",
        "Positive Business Impact:\n",
        "\n",
        "Audience Preferences: Understanding the distribution of movie durations can help tailor content to better match audience preferences. For instance, if shorter movies are more popular among viewers based on historical data, producers might lean towards creating movies within that preferred duration range to maximize viewership and box office potential.\n",
        "\n",
        "Strategic Release Planning: Analyzing the release year distribution can inform strategic planning for movie releases. Producers can align their marketing and distribution efforts with trends in release years, optimizing visibility and potentially increasing ticket sales during favorable release periods.\n",
        "\n",
        "Production Efficiency: Insights into preferred durations can also impact production planning and budgeting. Knowing that shorter movies might be more cost-effective to produce could influence decisions on resource allocation and overall project management.\n",
        "\n",
        "Negative Growth Considerations:\n",
        "\n",
        "Audience Fatigue: If the data shows a trend where longer movies are becoming less popular or viewers are showing preference for shorter durations, investing in longer films might lead to reduced audience engagement and negative word-of-mouth, impacting box office performance negatively.\n",
        "\n",
        "Market Saturation: Depending on the release year insights, there could be periods of market saturation where numerous films of similar genres or themes are released. This could dilute audience attention and affect the overall performance of a particular movie if it competes in a crowded release window.\n",
        "\n",
        "Budget Overruns: Producing movies that fall outside the preferred duration range might lead to higher production costs. For example, longer movies typically require more resources for filming, editing, and marketing. If these investments do not align with audience preferences or market conditions, they could result in financial losses.\n",
        "\n",
        "In summary, while insights from the pie chart can guide positive business impacts such as audience alignment and strategic planning, there are also potential risks such as audience fatigue and budget concerns that need careful consideration to mitigate negative growth outcomes in the movie industry.\n",
        "\n",
        "\n",
        "\n",
        "\n",
        "\n"
      ],
      "metadata": {
        "id": "tBpY5ekJphqQ"
      }
    },
    {
      "cell_type": "markdown",
      "source": [
        "#### Chart - 10"
      ],
      "metadata": {
        "id": "U2RJ9gkRphqQ"
      }
    },
    {
      "cell_type": "code",
      "source": [
        "# Chart - 10 visualization code\n",
        "import matplotlib.pyplot as plt\n",
        "\n",
        "# Sample data\n",
        "years = [2010, 2011, 2012, 2013, 2014, 2015, 2016, 2017, 2018, 2019]\n",
        "vc_rating = [3.5, 4.0, 4.2, 4.5, 4.7, 4.9, 5.0, 5.1, 5.2, 5.4]\n",
        "\n",
        "# Plotting the line chart\n",
        "plt.figure(figsize=(10, 6))\n",
        "plt.plot(years, vc_rating, marker='o', linestyle='-', color='b', label='VC Rating')\n",
        "\n",
        "# Adding labels and title\n",
        "plt.xlabel('Years')\n",
        "plt.ylabel('VC Rating')\n",
        "plt.title('Chart - 10: VC Rating Over Years')\n",
        "plt.grid(True)\n",
        "plt.legend()\n",
        "\n",
        "# Display the plot\n",
        "plt.tight_layout()\n",
        "plt.show()\n",
        "\n"
      ],
      "metadata": {
        "id": "GM7a4YP4phqQ"
      },
      "execution_count": null,
      "outputs": []
    },
    {
      "cell_type": "markdown",
      "source": [
        "##### 1. Why did you pick the specific chart?"
      ],
      "metadata": {
        "id": "1M8mcRywphqQ"
      }
    },
    {
      "cell_type": "markdown",
      "source": [
        "Visualizing Trends: Line charts are ideal for illustrating trends in data over time. They help stakeholders quickly grasp how VC ratings have evolved year by year.\n",
        "\n",
        "Showing Relationships: Line charts make it easy to see the relationship between years (x-axis) and VC ratings (y-axis). Any increase, decrease, or stability in ratings can be clearly observed.\n",
        "\n",
        "Comparing Data Points: With markers on data points (like circles in this case), it's straightforward to pinpoint specific years and their corresponding ratings.\n",
        "\n",
        "Clarity and Simplicity: Line charts are simple and intuitive, making them accessible to a wide range of audiences without needing extensive explanation.\n",
        "\n",
        "Highlighting Patterns: If there are patterns or anomalies in VC ratings over the years, a line chart can effectively highlight these, aiding in decision-making processes.\n",
        "\n",
        "Overall, the choice of a line chart for Chart - 10 allows for a clear, informative visualization of how VC ratings have progressed over the specified years, enabling stakeholders to derive insights and make informed decisions based on this historical data.\n",
        "\n",
        "\n",
        "\n",
        "\n",
        "\n"
      ],
      "metadata": {
        "id": "8agQvks0phqQ"
      }
    },
    {
      "cell_type": "markdown",
      "source": [
        "##### 2. What is/are the insight(s) found from the chart?"
      ],
      "metadata": {
        "id": "tgIPom80phqQ"
      }
    },
    {
      "cell_type": "markdown",
      "source": [
        "Since we haven't generated the specific Chart - 10 visualization code yet, I don't have the data to provide specific insights from that chart. However, typically from a line chart showing VC ratings over time, here are some insights that could be derived:\n",
        "\n",
        "Trend Analysis: Identify whether VC ratings have been increasing, decreasing, or remaining stable over the years. This insight can help in understanding the overall sentiment towards venture capital funding within the specified context.\n",
        "\n",
        "Seasonal or Cyclical Patterns: Sometimes, VC ratings may exhibit seasonal or cyclical patterns based on economic conditions, industry trends, or regulatory changes. Detecting such patterns can provide strategic insights for timing investments or fundraising efforts.\n",
        "\n",
        "Impact of Events: Significant events or milestones within the VC industry or broader economy (like economic downturns or regulatory reforms) may correlate with changes in VC ratings. Understanding these correlations can help in forecasting future trends.\n",
        "\n",
        "Comparative Analysis: Compare VC ratings across different regions, sectors, or types of investors if the data allows. This comparative analysis can highlight regional or sector-specific trends in VC sentiment.\n",
        "\n",
        "Forecasting and Predictive Insights: Using historical data from the line chart, predictive analytics techniques can be applied to forecast future VC ratings or identify potential shifts in investor sentiment.\n",
        "\n",
        "To provide more specific insights, I would need to visualize the data and analyze the trends and patterns directly from Chart - 10. If you have the data and need assistance with generating the visualization or interpreting the insights, feel free to provide details, and I can assist you further!"
      ],
      "metadata": {
        "id": "Qp13pnNzphqQ"
      }
    },
    {
      "cell_type": "markdown",
      "source": [
        "##### 3. Will the gained insights help creating a positive business impact?\n",
        "Are there any insights that lead to negative growth? Justify with specific reason."
      ],
      "metadata": {
        "id": "JMzcOPDDphqR"
      }
    },
    {
      "cell_type": "markdown",
      "source": [
        "Answer Here"
      ],
      "metadata": {
        "id": "R4Ka1PC2phqR"
      }
    },
    {
      "cell_type": "markdown",
      "source": [
        "#### Chart - 11"
      ],
      "metadata": {
        "id": "x-EpHcCOp1ci"
      }
    },
    {
      "cell_type": "code",
      "source": [
        "# Chart - 11 visualization code\n",
        "import matplotlib.pyplot as plt\n",
        "\n",
        "\n",
        "# Plotting the data\n",
        "plt.figure(figsize=(8, 5))\n",
        "bars = plt.bar(directors, num_movies, color=['blue', 'green', 'orange', 'purple', 'red'])\n",
        "\n",
        "# Adding labels and title\n",
        "plt.xlabel('Directors')\n",
        "plt.ylabel('Number of Movies')\n",
        "plt.title('Number of Movies Directed by Directors in Different Countries')\n",
        "\n",
        "# Adding country labels on top of bars\n",
        "for bar, country in zip(bars, countries):\n",
        "    yval = bar.get_height()\n",
        "    plt.text(bar.get_x() + bar.get_width()/2, yval + 0.1, country, ha='center', va='bottom', fontsize=10)\n",
        "\n",
        "# Displaying the plot\n",
        "plt.tight_layout()\n",
        "plt.show()\n"
      ],
      "metadata": {
        "id": "mAQTIvtqp1cj"
      },
      "execution_count": null,
      "outputs": []
    },
    {
      "cell_type": "markdown",
      "source": [
        "##### 1. Why did you pick the specific chart?"
      ],
      "metadata": {
        "id": "X_VqEhTip1ck"
      }
    },
    {
      "cell_type": "markdown",
      "source": [
        "Answer Here."
      ],
      "metadata": {
        "id": "-vsMzt_np1ck"
      }
    },
    {
      "cell_type": "markdown",
      "source": [
        "##### 2. What is/are the insight(s) found from the chart?"
      ],
      "metadata": {
        "id": "8zGJKyg5p1ck"
      }
    },
    {
      "cell_type": "markdown",
      "source": [
        "Answer Here"
      ],
      "metadata": {
        "id": "ZYdMsrqVp1ck"
      }
    },
    {
      "cell_type": "markdown",
      "source": [
        "##### 3. Will the gained insights help creating a positive business impact?\n",
        "Are there any insights that lead to negative growth? Justify with specific reason."
      ],
      "metadata": {
        "id": "PVzmfK_Ep1ck"
      }
    },
    {
      "cell_type": "markdown",
      "source": [
        "Answer Here"
      ],
      "metadata": {
        "id": "druuKYZpp1ck"
      }
    },
    {
      "cell_type": "markdown",
      "source": [
        "#### Chart - 12"
      ],
      "metadata": {
        "id": "n3dbpmDWp1ck"
      }
    },
    {
      "cell_type": "code",
      "source": [
        "# Chart - 12 visualization code"
      ],
      "metadata": {
        "id": "bwevp1tKp1ck"
      },
      "execution_count": null,
      "outputs": []
    },
    {
      "cell_type": "markdown",
      "source": [
        "##### 1. Why did you pick the specific chart?"
      ],
      "metadata": {
        "id": "ylSl6qgtp1ck"
      }
    },
    {
      "cell_type": "markdown",
      "source": [
        "Answer Here."
      ],
      "metadata": {
        "id": "m2xqNkiQp1ck"
      }
    },
    {
      "cell_type": "markdown",
      "source": [
        "##### 2. What is/are the insight(s) found from the chart?"
      ],
      "metadata": {
        "id": "ZWILFDl5p1ck"
      }
    },
    {
      "cell_type": "markdown",
      "source": [
        "Answer Here"
      ],
      "metadata": {
        "id": "x-lUsV2mp1ck"
      }
    },
    {
      "cell_type": "markdown",
      "source": [
        "##### 3. Will the gained insights help creating a positive business impact?\n",
        "Are there any insights that lead to negative growth? Justify with specific reason."
      ],
      "metadata": {
        "id": "M7G43BXep1ck"
      }
    },
    {
      "cell_type": "markdown",
      "source": [
        "Answer Here"
      ],
      "metadata": {
        "id": "5wwDJXsLp1cl"
      }
    },
    {
      "cell_type": "markdown",
      "source": [
        "#### Chart - 13"
      ],
      "metadata": {
        "id": "Ag9LCva-p1cl"
      }
    },
    {
      "cell_type": "code",
      "source": [
        "# Chart - 13 visualization code"
      ],
      "metadata": {
        "id": "EUfxeq9-p1cl"
      },
      "execution_count": null,
      "outputs": []
    },
    {
      "cell_type": "markdown",
      "source": [
        "##### 1. Why did you pick the specific chart?"
      ],
      "metadata": {
        "id": "E6MkPsBcp1cl"
      }
    },
    {
      "cell_type": "markdown",
      "source": [
        "Answer Here."
      ],
      "metadata": {
        "id": "V22bRsFWp1cl"
      }
    },
    {
      "cell_type": "markdown",
      "source": [
        "##### 2. What is/are the insight(s) found from the chart?"
      ],
      "metadata": {
        "id": "2cELzS2fp1cl"
      }
    },
    {
      "cell_type": "markdown",
      "source": [
        "Answer Here"
      ],
      "metadata": {
        "id": "ozQPc2_Ip1cl"
      }
    },
    {
      "cell_type": "markdown",
      "source": [
        "##### 3. Will the gained insights help creating a positive business impact?\n",
        "Are there any insights that lead to negative growth? Justify with specific reason."
      ],
      "metadata": {
        "id": "3MPXvC8up1cl"
      }
    },
    {
      "cell_type": "markdown",
      "source": [
        "Answer Here"
      ],
      "metadata": {
        "id": "GL8l1tdLp1cl"
      }
    },
    {
      "cell_type": "markdown",
      "source": [
        "#### Chart - 14 - Correlation Heatmap"
      ],
      "metadata": {
        "id": "NC_X3p0fY2L0"
      }
    },
    {
      "cell_type": "code",
      "source": [
        "# Correlation Heatmap visualization code"
      ],
      "metadata": {
        "id": "xyC9zolEZNRQ"
      },
      "execution_count": null,
      "outputs": []
    },
    {
      "cell_type": "markdown",
      "source": [
        "##### 1. Why did you pick the specific chart?"
      ],
      "metadata": {
        "id": "UV0SzAkaZNRQ"
      }
    },
    {
      "cell_type": "markdown",
      "source": [
        "Answer Here."
      ],
      "metadata": {
        "id": "DVPuT8LYZNRQ"
      }
    },
    {
      "cell_type": "markdown",
      "source": [
        "##### 2. What is/are the insight(s) found from the chart?"
      ],
      "metadata": {
        "id": "YPEH6qLeZNRQ"
      }
    },
    {
      "cell_type": "markdown",
      "source": [
        "Answer Here"
      ],
      "metadata": {
        "id": "bfSqtnDqZNRR"
      }
    },
    {
      "cell_type": "markdown",
      "source": [
        "#### Chart - 15 - Pair Plot"
      ],
      "metadata": {
        "id": "q29F0dvdveiT"
      }
    },
    {
      "cell_type": "code",
      "source": [
        "# Pair Plot visualization code"
      ],
      "metadata": {
        "id": "o58-TEIhveiU"
      },
      "execution_count": null,
      "outputs": []
    },
    {
      "cell_type": "markdown",
      "source": [
        "##### 1. Why did you pick the specific chart?"
      ],
      "metadata": {
        "id": "EXh0U9oCveiU"
      }
    },
    {
      "cell_type": "markdown",
      "source": [
        "Answer Here."
      ],
      "metadata": {
        "id": "eMmPjTByveiU"
      }
    },
    {
      "cell_type": "markdown",
      "source": [
        "##### 2. What is/are the insight(s) found from the chart?"
      ],
      "metadata": {
        "id": "22aHeOlLveiV"
      }
    },
    {
      "cell_type": "markdown",
      "source": [
        "Answer Here"
      ],
      "metadata": {
        "id": "uPQ8RGwHveiV"
      }
    },
    {
      "cell_type": "markdown",
      "source": [
        "## ***5. Hypothesis Testing***"
      ],
      "metadata": {
        "id": "g-ATYxFrGrvw"
      }
    },
    {
      "cell_type": "markdown",
      "source": [
        "### Based on your chart experiments, define three hypothetical statements from the dataset. In the next three questions, perform hypothesis testing to obtain final conclusion about the statements through your code and statistical testing."
      ],
      "metadata": {
        "id": "Yfr_Vlr8HBkt"
      }
    },
    {
      "cell_type": "markdown",
      "source": [
        "Answer Here."
      ],
      "metadata": {
        "id": "-7MS06SUHkB-"
      }
    },
    {
      "cell_type": "markdown",
      "source": [
        "### Hypothetical Statement - 1"
      ],
      "metadata": {
        "id": "8yEUt7NnHlrM"
      }
    },
    {
      "cell_type": "markdown",
      "source": [
        "#### 1. State Your research hypothesis as a null hypothesis and alternate hypothesis."
      ],
      "metadata": {
        "id": "tEA2Xm5dHt1r"
      }
    },
    {
      "cell_type": "markdown",
      "source": [
        "Answer Here."
      ],
      "metadata": {
        "id": "HI9ZP0laH0D-"
      }
    },
    {
      "cell_type": "markdown",
      "source": [
        "#### 2. Perform an appropriate statistical test."
      ],
      "metadata": {
        "id": "I79__PHVH19G"
      }
    },
    {
      "cell_type": "code",
      "source": [
        "# Perform Statistical Test to obtain P-Value"
      ],
      "metadata": {
        "id": "oZrfquKtyian"
      },
      "execution_count": null,
      "outputs": []
    },
    {
      "cell_type": "markdown",
      "source": [
        "##### Which statistical test have you done to obtain P-Value?"
      ],
      "metadata": {
        "id": "Ou-I18pAyIpj"
      }
    },
    {
      "cell_type": "markdown",
      "source": [
        "Answer Here."
      ],
      "metadata": {
        "id": "s2U0kk00ygSB"
      }
    },
    {
      "cell_type": "markdown",
      "source": [
        "##### Why did you choose the specific statistical test?"
      ],
      "metadata": {
        "id": "fF3858GYyt-u"
      }
    },
    {
      "cell_type": "markdown",
      "source": [
        "Answer Here."
      ],
      "metadata": {
        "id": "HO4K0gP5y3B4"
      }
    },
    {
      "cell_type": "markdown",
      "source": [
        "### Hypothetical Statement - 2"
      ],
      "metadata": {
        "id": "4_0_7-oCpUZd"
      }
    },
    {
      "cell_type": "markdown",
      "source": [
        "#### 1. State Your research hypothesis as a null hypothesis and alternate hypothesis."
      ],
      "metadata": {
        "id": "hwyV_J3ipUZe"
      }
    },
    {
      "cell_type": "markdown",
      "source": [
        "Answer Here."
      ],
      "metadata": {
        "id": "FnpLGJ-4pUZe"
      }
    },
    {
      "cell_type": "markdown",
      "source": [
        "#### 2. Perform an appropriate statistical test."
      ],
      "metadata": {
        "id": "3yB-zSqbpUZe"
      }
    },
    {
      "cell_type": "code",
      "source": [
        "# Perform Statistical Test to obtain P-Value"
      ],
      "metadata": {
        "id": "sWxdNTXNpUZe"
      },
      "execution_count": null,
      "outputs": []
    },
    {
      "cell_type": "markdown",
      "source": [
        "##### Which statistical test have you done to obtain P-Value?"
      ],
      "metadata": {
        "id": "dEUvejAfpUZe"
      }
    },
    {
      "cell_type": "markdown",
      "source": [
        "Answer Here."
      ],
      "metadata": {
        "id": "oLDrPz7HpUZf"
      }
    },
    {
      "cell_type": "markdown",
      "source": [
        "##### Why did you choose the specific statistical test?"
      ],
      "metadata": {
        "id": "Fd15vwWVpUZf"
      }
    },
    {
      "cell_type": "markdown",
      "source": [
        "Answer Here."
      ],
      "metadata": {
        "id": "4xOGYyiBpUZf"
      }
    },
    {
      "cell_type": "markdown",
      "source": [
        "### Hypothetical Statement - 3"
      ],
      "metadata": {
        "id": "bn_IUdTipZyH"
      }
    },
    {
      "cell_type": "markdown",
      "source": [
        "#### 1. State Your research hypothesis as a null hypothesis and alternate hypothesis."
      ],
      "metadata": {
        "id": "49K5P_iCpZyH"
      }
    },
    {
      "cell_type": "markdown",
      "source": [
        "Answer Here."
      ],
      "metadata": {
        "id": "7gWI5rT9pZyH"
      }
    },
    {
      "cell_type": "markdown",
      "source": [
        "#### 2. Perform an appropriate statistical test."
      ],
      "metadata": {
        "id": "Nff-vKELpZyI"
      }
    },
    {
      "cell_type": "code",
      "source": [
        "# Perform Statistical Test to obtain P-Value"
      ],
      "metadata": {
        "id": "s6AnJQjtpZyI"
      },
      "execution_count": null,
      "outputs": []
    },
    {
      "cell_type": "markdown",
      "source": [
        "##### Which statistical test have you done to obtain P-Value?"
      ],
      "metadata": {
        "id": "kLW572S8pZyI"
      }
    },
    {
      "cell_type": "markdown",
      "source": [
        "Answer Here."
      ],
      "metadata": {
        "id": "ytWJ8v15pZyI"
      }
    },
    {
      "cell_type": "markdown",
      "source": [
        "##### Why did you choose the specific statistical test?"
      ],
      "metadata": {
        "id": "dWbDXHzopZyI"
      }
    },
    {
      "cell_type": "markdown",
      "source": [
        "Answer Here."
      ],
      "metadata": {
        "id": "M99G98V6pZyI"
      }
    },
    {
      "cell_type": "markdown",
      "source": [
        "## ***6. Feature Engineering & Data Pre-processing***"
      ],
      "metadata": {
        "id": "yLjJCtPM0KBk"
      }
    },
    {
      "cell_type": "markdown",
      "source": [
        "### 1. Handling Missing Values"
      ],
      "metadata": {
        "id": "xiyOF9F70UgQ"
      }
    },
    {
      "cell_type": "code",
      "source": [
        "# Handling Missing Values & Missing Value Imputation"
      ],
      "metadata": {
        "id": "iRsAHk1K0fpS"
      },
      "execution_count": null,
      "outputs": []
    },
    {
      "cell_type": "markdown",
      "source": [
        "#### What all missing value imputation techniques have you used and why did you use those techniques?"
      ],
      "metadata": {
        "id": "7wuGOrhz0itI"
      }
    },
    {
      "cell_type": "markdown",
      "source": [
        "Answer Here."
      ],
      "metadata": {
        "id": "1ixusLtI0pqI"
      }
    },
    {
      "cell_type": "markdown",
      "source": [
        "### 2. Handling Outliers"
      ],
      "metadata": {
        "id": "id1riN9m0vUs"
      }
    },
    {
      "cell_type": "code",
      "source": [
        "# Handling Outliers & Outlier treatments"
      ],
      "metadata": {
        "id": "M6w2CzZf04JK"
      },
      "execution_count": null,
      "outputs": []
    },
    {
      "cell_type": "markdown",
      "source": [
        "##### What all outlier treatment techniques have you used and why did you use those techniques?"
      ],
      "metadata": {
        "id": "578E2V7j08f6"
      }
    },
    {
      "cell_type": "markdown",
      "source": [
        "Answer Here."
      ],
      "metadata": {
        "id": "uGZz5OrT1HH-"
      }
    },
    {
      "cell_type": "markdown",
      "source": [
        "### 3. Categorical Encoding"
      ],
      "metadata": {
        "id": "89xtkJwZ18nB"
      }
    },
    {
      "cell_type": "code",
      "source": [
        "# Encode your categorical columns"
      ],
      "metadata": {
        "id": "21JmIYMG2hEo"
      },
      "execution_count": null,
      "outputs": []
    },
    {
      "cell_type": "markdown",
      "source": [
        "#### What all categorical encoding techniques have you used & why did you use those techniques?"
      ],
      "metadata": {
        "id": "67NQN5KX2AMe"
      }
    },
    {
      "cell_type": "markdown",
      "source": [
        "Answer Here."
      ],
      "metadata": {
        "id": "UDaue5h32n_G"
      }
    },
    {
      "cell_type": "markdown",
      "source": [
        "### 4. Textual Data Preprocessing\n",
        "(It's mandatory for textual dataset i.e., NLP, Sentiment Analysis, Text Clustering etc.)"
      ],
      "metadata": {
        "id": "Iwf50b-R2tYG"
      }
    },
    {
      "cell_type": "markdown",
      "source": [
        "#### 1. Expand Contraction"
      ],
      "metadata": {
        "id": "GMQiZwjn3iu7"
      }
    },
    {
      "cell_type": "code",
      "source": [
        "# Expand Contraction"
      ],
      "metadata": {
        "id": "PTouz10C3oNN"
      },
      "execution_count": null,
      "outputs": []
    },
    {
      "cell_type": "markdown",
      "source": [
        "#### 2. Lower Casing"
      ],
      "metadata": {
        "id": "WVIkgGqN3qsr"
      }
    },
    {
      "cell_type": "code",
      "source": [
        "# Lower Casing"
      ],
      "metadata": {
        "id": "88JnJ1jN3w7j"
      },
      "execution_count": null,
      "outputs": []
    },
    {
      "cell_type": "markdown",
      "source": [
        "#### 3. Removing Punctuations"
      ],
      "metadata": {
        "id": "XkPnILGE3zoT"
      }
    },
    {
      "cell_type": "code",
      "source": [
        "# Remove Punctuations"
      ],
      "metadata": {
        "id": "vqbBqNaA33c0"
      },
      "execution_count": null,
      "outputs": []
    },
    {
      "cell_type": "markdown",
      "source": [
        "#### 4. Removing URLs & Removing words and digits contain digits."
      ],
      "metadata": {
        "id": "Hlsf0x5436Go"
      }
    },
    {
      "cell_type": "code",
      "source": [
        "# Remove URLs & Remove words and digits contain digits"
      ],
      "metadata": {
        "id": "2sxKgKxu4Ip3"
      },
      "execution_count": null,
      "outputs": []
    },
    {
      "cell_type": "markdown",
      "source": [
        "#### 5. Removing Stopwords & Removing White spaces"
      ],
      "metadata": {
        "id": "mT9DMSJo4nBL"
      }
    },
    {
      "cell_type": "code",
      "source": [
        "# Remove Stopwords"
      ],
      "metadata": {
        "id": "T2LSJh154s8W"
      },
      "execution_count": null,
      "outputs": []
    },
    {
      "cell_type": "code",
      "source": [
        "# Remove White spaces"
      ],
      "metadata": {
        "id": "EgLJGffy4vm0"
      },
      "execution_count": null,
      "outputs": []
    },
    {
      "cell_type": "markdown",
      "source": [
        "#### 6. Rephrase Text"
      ],
      "metadata": {
        "id": "c49ITxTc407N"
      }
    },
    {
      "cell_type": "code",
      "source": [
        "# Rephrase Text"
      ],
      "metadata": {
        "id": "foqY80Qu48N2"
      },
      "execution_count": null,
      "outputs": []
    },
    {
      "cell_type": "markdown",
      "source": [
        "#### 7. Tokenization"
      ],
      "metadata": {
        "id": "OeJFEK0N496M"
      }
    },
    {
      "cell_type": "code",
      "source": [
        "# Tokenization"
      ],
      "metadata": {
        "id": "ijx1rUOS5CUU"
      },
      "execution_count": null,
      "outputs": []
    },
    {
      "cell_type": "markdown",
      "source": [
        "#### 8. Text Normalization"
      ],
      "metadata": {
        "id": "9ExmJH0g5HBk"
      }
    },
    {
      "cell_type": "code",
      "source": [
        "# Normalizing Text (i.e., Stemming, Lemmatization etc.)"
      ],
      "metadata": {
        "id": "AIJ1a-Zc5PY8"
      },
      "execution_count": null,
      "outputs": []
    },
    {
      "cell_type": "markdown",
      "source": [
        "##### Which text normalization technique have you used and why?"
      ],
      "metadata": {
        "id": "cJNqERVU536h"
      }
    },
    {
      "cell_type": "markdown",
      "source": [
        "Answer Here."
      ],
      "metadata": {
        "id": "Z9jKVxE06BC1"
      }
    },
    {
      "cell_type": "markdown",
      "source": [
        "#### 9. Part of speech tagging"
      ],
      "metadata": {
        "id": "k5UmGsbsOxih"
      }
    },
    {
      "cell_type": "code",
      "source": [
        "# POS Taging"
      ],
      "metadata": {
        "id": "btT3ZJBAO6Ik"
      },
      "execution_count": null,
      "outputs": []
    },
    {
      "cell_type": "markdown",
      "source": [
        "#### 10. Text Vectorization"
      ],
      "metadata": {
        "id": "T0VqWOYE6DLQ"
      }
    },
    {
      "cell_type": "code",
      "source": [
        "# Vectorizing Text"
      ],
      "metadata": {
        "id": "yBRtdhth6JDE"
      },
      "execution_count": null,
      "outputs": []
    },
    {
      "cell_type": "markdown",
      "source": [
        "##### Which text vectorization technique have you used and why?"
      ],
      "metadata": {
        "id": "qBMux9mC6MCf"
      }
    },
    {
      "cell_type": "markdown",
      "source": [
        "Answer Here."
      ],
      "metadata": {
        "id": "su2EnbCh6UKQ"
      }
    },
    {
      "cell_type": "markdown",
      "source": [
        "### 4. Feature Manipulation & Selection"
      ],
      "metadata": {
        "id": "-oLEiFgy-5Pf"
      }
    },
    {
      "cell_type": "markdown",
      "source": [
        "#### 1. Feature Manipulation"
      ],
      "metadata": {
        "id": "C74aWNz2AliB"
      }
    },
    {
      "cell_type": "code",
      "source": [
        "# Manipulate Features to minimize feature correlation and create new features"
      ],
      "metadata": {
        "id": "h1qC4yhBApWC"
      },
      "execution_count": null,
      "outputs": []
    },
    {
      "cell_type": "markdown",
      "source": [
        "#### 2. Feature Selection"
      ],
      "metadata": {
        "id": "2DejudWSA-a0"
      }
    },
    {
      "cell_type": "code",
      "source": [
        "# Select your features wisely to avoid overfitting"
      ],
      "metadata": {
        "id": "YLhe8UmaBCEE"
      },
      "execution_count": null,
      "outputs": []
    },
    {
      "cell_type": "markdown",
      "source": [
        "##### What all feature selection methods have you used  and why?"
      ],
      "metadata": {
        "id": "pEMng2IbBLp7"
      }
    },
    {
      "cell_type": "markdown",
      "source": [
        "Answer Here."
      ],
      "metadata": {
        "id": "rb2Lh6Z8BgGs"
      }
    },
    {
      "cell_type": "markdown",
      "source": [
        "##### Which all features you found important and why?"
      ],
      "metadata": {
        "id": "rAdphbQ9Bhjc"
      }
    },
    {
      "cell_type": "markdown",
      "source": [
        "Answer Here."
      ],
      "metadata": {
        "id": "fGgaEstsBnaf"
      }
    },
    {
      "cell_type": "markdown",
      "source": [
        "### 5. Data Transformation"
      ],
      "metadata": {
        "id": "TNVZ9zx19K6k"
      }
    },
    {
      "cell_type": "markdown",
      "source": [
        "#### Do you think that your data needs to be transformed? If yes, which transformation have you used. Explain Why?"
      ],
      "metadata": {
        "id": "nqoHp30x9hH9"
      }
    },
    {
      "cell_type": "code",
      "source": [
        "# Transform Your data"
      ],
      "metadata": {
        "id": "I6quWQ1T9rtH"
      },
      "execution_count": null,
      "outputs": []
    },
    {
      "cell_type": "markdown",
      "source": [
        "### 6. Data Scaling"
      ],
      "metadata": {
        "id": "rMDnDkt2B6du"
      }
    },
    {
      "cell_type": "code",
      "source": [
        "# Scaling your data"
      ],
      "metadata": {
        "id": "dL9LWpySC6x_"
      },
      "execution_count": null,
      "outputs": []
    },
    {
      "cell_type": "markdown",
      "source": [
        "##### Which method have you used to scale you data and why?"
      ],
      "metadata": {
        "id": "yiiVWRdJDDil"
      }
    },
    {
      "cell_type": "markdown",
      "source": [
        "### 7. Dimesionality Reduction"
      ],
      "metadata": {
        "id": "1UUpS68QDMuG"
      }
    },
    {
      "cell_type": "markdown",
      "source": [
        "##### Do you think that dimensionality reduction is needed? Explain Why?"
      ],
      "metadata": {
        "id": "kexQrXU-DjzY"
      }
    },
    {
      "cell_type": "markdown",
      "source": [
        "Answer Here."
      ],
      "metadata": {
        "id": "GGRlBsSGDtTQ"
      }
    },
    {
      "cell_type": "code",
      "source": [
        "# DImensionality Reduction (If needed)"
      ],
      "metadata": {
        "id": "kQfvxBBHDvCa"
      },
      "execution_count": null,
      "outputs": []
    },
    {
      "cell_type": "markdown",
      "source": [
        "##### Which dimensionality reduction technique have you used and why? (If dimensionality reduction done on dataset.)"
      ],
      "metadata": {
        "id": "T5CmagL3EC8N"
      }
    },
    {
      "cell_type": "markdown",
      "source": [
        "Answer Here."
      ],
      "metadata": {
        "id": "ZKr75IDuEM7t"
      }
    },
    {
      "cell_type": "markdown",
      "source": [
        "### 8. Data Splitting"
      ],
      "metadata": {
        "id": "BhH2vgX9EjGr"
      }
    },
    {
      "cell_type": "code",
      "source": [
        "# Split your data to train and test. Choose Splitting ratio wisely."
      ],
      "metadata": {
        "id": "0CTyd2UwEyNM"
      },
      "execution_count": null,
      "outputs": []
    },
    {
      "cell_type": "markdown",
      "source": [
        "##### What data splitting ratio have you used and why?"
      ],
      "metadata": {
        "id": "qjKvONjwE8ra"
      }
    },
    {
      "cell_type": "markdown",
      "source": [
        "Answer Here."
      ],
      "metadata": {
        "id": "Y2lJ8cobFDb_"
      }
    },
    {
      "cell_type": "markdown",
      "source": [
        "### 9. Handling Imbalanced Dataset"
      ],
      "metadata": {
        "id": "P1XJ9OREExlT"
      }
    },
    {
      "cell_type": "markdown",
      "source": [
        "##### Do you think the dataset is imbalanced? Explain Why."
      ],
      "metadata": {
        "id": "VFOzZv6IFROw"
      }
    },
    {
      "cell_type": "markdown",
      "source": [
        "Answer Here."
      ],
      "metadata": {
        "id": "GeKDIv7pFgcC"
      }
    },
    {
      "cell_type": "code",
      "source": [
        "# Handling Imbalanced Dataset (If needed)"
      ],
      "metadata": {
        "id": "nQsRhhZLFiDs"
      },
      "execution_count": null,
      "outputs": []
    },
    {
      "cell_type": "markdown",
      "source": [
        "##### What technique did you use to handle the imbalance dataset and why? (If needed to be balanced)"
      ],
      "metadata": {
        "id": "TIqpNgepFxVj"
      }
    },
    {
      "cell_type": "markdown",
      "source": [
        "Answer Here."
      ],
      "metadata": {
        "id": "qbet1HwdGDTz"
      }
    },
    {
      "cell_type": "markdown",
      "source": [
        "## ***7. ML Model Implementation***"
      ],
      "metadata": {
        "id": "VfCC591jGiD4"
      }
    },
    {
      "cell_type": "markdown",
      "source": [
        "### ML Model - 1"
      ],
      "metadata": {
        "id": "OB4l2ZhMeS1U"
      }
    },
    {
      "cell_type": "code",
      "source": [
        "# ML Model - 1 Implementation\n",
        "\n",
        "# Fit the Algorithm\n",
        "\n",
        "# Predict on the model"
      ],
      "metadata": {
        "id": "7ebyywQieS1U"
      },
      "execution_count": null,
      "outputs": []
    },
    {
      "cell_type": "markdown",
      "source": [
        "#### 1. Explain the ML Model used and it's performance using Evaluation metric Score Chart."
      ],
      "metadata": {
        "id": "ArJBuiUVfxKd"
      }
    },
    {
      "cell_type": "code",
      "source": [
        "# Visualizing evaluation Metric Score chart"
      ],
      "metadata": {
        "id": "rqD5ZohzfxKe"
      },
      "execution_count": null,
      "outputs": []
    },
    {
      "cell_type": "markdown",
      "source": [
        "#### 2. Cross- Validation & Hyperparameter Tuning"
      ],
      "metadata": {
        "id": "4qY1EAkEfxKe"
      }
    },
    {
      "cell_type": "code",
      "source": [
        "# ML Model - 1 Implementation with hyperparameter optimization techniques (i.e., GridSearch CV, RandomSearch CV, Bayesian Optimization etc.)\n",
        "\n",
        "# Fit the Algorithm\n",
        "\n",
        "# Predict on the model"
      ],
      "metadata": {
        "id": "Dy61ujd6fxKe"
      },
      "execution_count": null,
      "outputs": []
    },
    {
      "cell_type": "markdown",
      "source": [
        "##### Which hyperparameter optimization technique have you used and why?"
      ],
      "metadata": {
        "id": "PiV4Ypx8fxKe"
      }
    },
    {
      "cell_type": "markdown",
      "source": [
        "Answer Here."
      ],
      "metadata": {
        "id": "negyGRa7fxKf"
      }
    },
    {
      "cell_type": "markdown",
      "source": [
        "##### Have you seen any improvement? Note down the improvement with updates Evaluation metric Score Chart."
      ],
      "metadata": {
        "id": "TfvqoZmBfxKf"
      }
    },
    {
      "cell_type": "markdown",
      "source": [
        "Answer Here."
      ],
      "metadata": {
        "id": "OaLui8CcfxKf"
      }
    },
    {
      "cell_type": "markdown",
      "source": [
        "### ML Model - 2"
      ],
      "metadata": {
        "id": "dJ2tPlVmpsJ0"
      }
    },
    {
      "cell_type": "markdown",
      "source": [
        "#### 1. Explain the ML Model used and it's performance using Evaluation metric Score Chart."
      ],
      "metadata": {
        "id": "JWYfwnehpsJ1"
      }
    },
    {
      "cell_type": "code",
      "source": [
        "# Visualizing evaluation Metric Score chart"
      ],
      "metadata": {
        "id": "yEl-hgQWpsJ1"
      },
      "execution_count": null,
      "outputs": []
    },
    {
      "cell_type": "markdown",
      "source": [
        "#### 2. Cross- Validation & Hyperparameter Tuning"
      ],
      "metadata": {
        "id": "-jK_YjpMpsJ2"
      }
    },
    {
      "cell_type": "code",
      "source": [
        "# ML Model - 1 Implementation with hyperparameter optimization techniques (i.e., GridSearch CV, RandomSearch CV, Bayesian Optimization etc.)\n",
        "\n",
        "# Fit the Algorithm\n",
        "\n",
        "# Predict on the model"
      ],
      "metadata": {
        "id": "Dn0EOfS6psJ2"
      },
      "execution_count": null,
      "outputs": []
    },
    {
      "cell_type": "markdown",
      "source": [
        "##### Which hyperparameter optimization technique have you used and why?"
      ],
      "metadata": {
        "id": "HAih1iBOpsJ2"
      }
    },
    {
      "cell_type": "markdown",
      "source": [
        "Answer Here."
      ],
      "metadata": {
        "id": "9kBgjYcdpsJ2"
      }
    },
    {
      "cell_type": "markdown",
      "source": [
        "##### Have you seen any improvement? Note down the improvement with updates Evaluation metric Score Chart."
      ],
      "metadata": {
        "id": "zVGeBEFhpsJ2"
      }
    },
    {
      "cell_type": "markdown",
      "source": [
        "Answer Here."
      ],
      "metadata": {
        "id": "74yRdG6UpsJ3"
      }
    },
    {
      "cell_type": "markdown",
      "source": [
        "#### 3. Explain each evaluation metric's indication towards business and the business impact pf the ML model used."
      ],
      "metadata": {
        "id": "bmKjuQ-FpsJ3"
      }
    },
    {
      "cell_type": "markdown",
      "source": [
        "Answer Here."
      ],
      "metadata": {
        "id": "BDKtOrBQpsJ3"
      }
    },
    {
      "cell_type": "markdown",
      "source": [
        "### ML Model - 3"
      ],
      "metadata": {
        "id": "Fze-IPXLpx6K"
      }
    },
    {
      "cell_type": "code",
      "source": [
        "# ML Model - 3 Implementation\n",
        "\n",
        "# Fit the Algorithm\n",
        "\n",
        "# Predict on the model"
      ],
      "metadata": {
        "id": "FFrSXAtrpx6M"
      },
      "execution_count": null,
      "outputs": []
    },
    {
      "cell_type": "markdown",
      "source": [
        "#### 1. Explain the ML Model used and it's performance using Evaluation metric Score Chart."
      ],
      "metadata": {
        "id": "7AN1z2sKpx6M"
      }
    },
    {
      "cell_type": "code",
      "source": [
        "# Visualizing evaluation Metric Score chart"
      ],
      "metadata": {
        "id": "xIY4lxxGpx6M"
      },
      "execution_count": null,
      "outputs": []
    },
    {
      "cell_type": "markdown",
      "source": [
        "#### 2. Cross- Validation & Hyperparameter Tuning"
      ],
      "metadata": {
        "id": "9PIHJqyupx6M"
      }
    },
    {
      "cell_type": "code",
      "source": [
        "# ML Model - 3 Implementation with hyperparameter optimization techniques (i.e., GridSearch CV, RandomSearch CV, Bayesian Optimization etc.)\n",
        "\n",
        "# Fit the Algorithm\n",
        "\n",
        "# Predict on the model"
      ],
      "metadata": {
        "id": "eSVXuaSKpx6M"
      },
      "execution_count": null,
      "outputs": []
    },
    {
      "cell_type": "markdown",
      "source": [
        "##### Which hyperparameter optimization technique have you used and why?"
      ],
      "metadata": {
        "id": "_-qAgymDpx6N"
      }
    },
    {
      "cell_type": "markdown",
      "source": [
        "Answer Here."
      ],
      "metadata": {
        "id": "lQMffxkwpx6N"
      }
    },
    {
      "cell_type": "markdown",
      "source": [
        "##### Have you seen any improvement? Note down the improvement with updates Evaluation metric Score Chart."
      ],
      "metadata": {
        "id": "Z-hykwinpx6N"
      }
    },
    {
      "cell_type": "markdown",
      "source": [
        "Answer Here."
      ],
      "metadata": {
        "id": "MzVzZC6opx6N"
      }
    },
    {
      "cell_type": "markdown",
      "source": [
        "### 1. Which Evaluation metrics did you consider for a positive business impact and why?"
      ],
      "metadata": {
        "id": "h_CCil-SKHpo"
      }
    },
    {
      "cell_type": "markdown",
      "source": [
        "Answer Here."
      ],
      "metadata": {
        "id": "jHVz9hHDKFms"
      }
    },
    {
      "cell_type": "markdown",
      "source": [
        "### 2. Which ML model did you choose from the above created models as your final prediction model and why?"
      ],
      "metadata": {
        "id": "cBFFvTBNJzUa"
      }
    },
    {
      "cell_type": "markdown",
      "source": [
        "Answer Here."
      ],
      "metadata": {
        "id": "6ksF5Q1LKTVm"
      }
    },
    {
      "cell_type": "markdown",
      "source": [
        "### 3. Explain the model which you have used and the feature importance using any model explainability tool?"
      ],
      "metadata": {
        "id": "HvGl1hHyA_VK"
      }
    },
    {
      "cell_type": "markdown",
      "source": [
        "Answer Here."
      ],
      "metadata": {
        "id": "YnvVTiIxBL-C"
      }
    },
    {
      "cell_type": "markdown",
      "source": [
        "## ***8.*** ***Future Work (Optional)***"
      ],
      "metadata": {
        "id": "EyNgTHvd2WFk"
      }
    },
    {
      "cell_type": "markdown",
      "source": [
        "### 1. Save the best performing ml model in a pickle file or joblib file format for deployment process.\n"
      ],
      "metadata": {
        "id": "KH5McJBi2d8v"
      }
    },
    {
      "cell_type": "code",
      "source": [
        "# Save the File"
      ],
      "metadata": {
        "id": "bQIANRl32f4J"
      },
      "execution_count": null,
      "outputs": []
    },
    {
      "cell_type": "markdown",
      "source": [
        "### 2. Again Load the saved model file and try to predict unseen data for a sanity check.\n"
      ],
      "metadata": {
        "id": "iW_Lq9qf2h6X"
      }
    },
    {
      "cell_type": "code",
      "source": [
        "# Load the File and predict unseen data."
      ],
      "metadata": {
        "id": "oEXk9ydD2nVC"
      },
      "execution_count": null,
      "outputs": []
    },
    {
      "cell_type": "markdown",
      "source": [
        "### ***Congrats! Your model is successfully created and ready for deployment on a live server for a real user interaction !!!***"
      ],
      "metadata": {
        "id": "-Kee-DAl2viO"
      }
    },
    {
      "cell_type": "markdown",
      "source": [
        "# **Conclusion**"
      ],
      "metadata": {
        "id": "gCX9965dhzqZ"
      }
    },
    {
      "cell_type": "markdown",
      "source": [
        "Write the conclusion here."
      ],
      "metadata": {
        "id": "Fjb1IsQkh3yE"
      }
    },
    {
      "cell_type": "markdown",
      "source": [
        "### ***Hurrah! You have successfully completed your Machine Learning Capstone Project !!!***"
      ],
      "metadata": {
        "id": "gIfDvo9L0UH2"
      }
    }
  ]
}